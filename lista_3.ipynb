{
 "cells": [
  {
   "cell_type": "markdown",
   "id": "716876d6",
   "metadata": {},
   "source": [
    "## Pedro Vinicius Alves Silva - 10727865"
   ]
  },
  {
   "cell_type": "code",
   "execution_count": 1,
   "id": "309d4064",
   "metadata": {},
   "outputs": [],
   "source": [
    "import pandas as pd\n",
    "import numpy as np\n",
    "import statsmodels.api as sm\n",
    "import matplotlib.pyplot as plt\n",
    "from scipy.stats import chi2, t,f\n",
    "from scipy.spatial import distance\n",
    "import seaborn as sns\n",
    "from numpy.linalg import inv,eig, det\n",
    "from matplotlib.patches import Ellipse\n",
    "import matplotlib.transforms as transforms"
   ]
  },
  {
   "cell_type": "markdown",
   "id": "42108adb",
   "metadata": {},
   "source": [
    "# Questão 2"
   ]
  },
  {
   "cell_type": "markdown",
   "id": "eb010945",
   "metadata": {},
   "source": [
    "Seja $\\bar{x}$ o centróide da elipse que forma a região de confiança "
   ]
  },
  {
   "cell_type": "markdown",
   "id": "313bc3b2",
   "metadata": {},
   "source": [
    "$$\n",
    "\\bar{x} = (0.564 , 0.603)^T\n",
    "$$"
   ]
  },
  {
   "cell_type": "markdown",
   "id": "86ea2762",
   "metadata": {},
   "source": [
    "Se $\\lambda_i$ é o i-ésimo autovalor da matriz de covariância e $e_i$ é seu autovetor normalizado associado, temos que os eixos da elipse são dados por:\n",
    "$$\n",
    "\\sqrt{\\lambda_i}\\sqrt{\\frac{(n-1)p}{n-p}F_{p,n-p}}e_i\n",
    "$$"
   ]
  },
  {
   "cell_type": "code",
   "execution_count": 10,
   "id": "221169bd",
   "metadata": {
    "scrolled": true
   },
   "outputs": [
    {
     "name": "stdout",
     "output_type": "stream",
     "text": [
      "S = [[0.0144 0.0117]\n",
      " [0.0117 0.0146]]\n",
      "Autovalores e autovetores associados: \n",
      " (array([0.00279957, 0.02620043]), array([[-0.71012207, -0.70407858],\n",
      "       [ 0.70407858, -0.71012207]]))\n"
     ]
    }
   ],
   "source": [
    "s = np.array([[0.0144, 0.0117],[0.0117, 0.0146]])\n",
    "auto = eig(s)\n",
    "print(f'S = {s}')\n",
    "print(f'Autovalores e autovetores associados: \\n {auto}')\n"
   ]
  },
  {
   "cell_type": "markdown",
   "id": "05adc073",
   "metadata": {},
   "source": [
    "Logo, o comprimento dos eixos da elipse são dados por:"
   ]
  },
  {
   "cell_type": "code",
   "execution_count": 89,
   "id": "7f97eef2",
   "metadata": {},
   "outputs": [
    {
     "name": "stdout",
     "output_type": "stream",
     "text": [
      "0.09629974500676168 0.29460048196418404\n"
     ]
    }
   ],
   "source": [
    "n = 42\n",
    "p = 2\n",
    "sig = 0.05\n",
    "q = f.ppf(1-sig,p,n-p)\n",
    "ma = np.sqrt(auto[0][0])*np.sqrt(q*(n-1)/(n-p))\n",
    "me = np.sqrt(auto[0][1])*np.sqrt(q*(n-1)/(n-p))\n",
    "print(ma, me)"
   ]
  },
  {
   "cell_type": "code",
   "execution_count": 92,
   "id": "e4432b51",
   "metadata": {
    "scrolled": true
   },
   "outputs": [
    {
     "data": {
      "text/plain": [
       "<matplotlib.patches.Ellipse at 0x1c2fc8ec5e0>"
      ]
     },
     "execution_count": 92,
     "metadata": {},
     "output_type": "execute_result"
    },
    {
     "data": {
      "image/png": "[encoded data removed]",
      "text/plain": [
       "<Figure size 432x288 with 1 Axes>"
      ]
     },
     "metadata": {
      "needs_background": "light"
     },
     "output_type": "display_data"
    }
   ],
   "source": [
    "fig, axs = plt.subplots(1, 1)\n",
    "angle = np.arctan(auto[1][1][0]/auto[1][0][0])\n",
    "\n",
    "ell_radius_x = ma\n",
    "ell_radius_y = me\n",
    "ellipse = Ellipse((0.564, 0.603),\n",
    "    width=ell_radius_x * 2,\n",
    "    height=ell_radius_y * 2,\n",
    "    angle = angle,\n",
    "    facecolor=None)\n",
    "\n",
    "scale_x = np.sqrt(s[0][0])\n",
    "scale_y = np.sqrt(s[1][1])\n",
    "\n",
    "\n",
    "axs.add_patch(ellipse)\n"
   ]
  },
  {
   "cell_type": "markdown",
   "id": "e719b107",
   "metadata": {},
   "source": [
    "$$\n",
    "MA \\pm 0.0962 (-0.7101, 0.7040)^T \\\\\n",
    "ME  \\pm 0.2945 (-0.7040, -0.7101)^T\n",
    "$$"
   ]
  },
  {
   "cell_type": "markdown",
   "id": "c628b447",
   "metadata": {},
   "source": [
    "# Questão 4"
   ]
  },
  {
   "cell_type": "markdown",
   "id": "39af4a8a",
   "metadata": {},
   "source": [
    "Inicialmente precisamos verificar a suposição de normalidade de cada uma das populações de interesse, ou seja, de cada espécie de flor."
   ]
  },
  {
   "cell_type": "code",
   "execution_count": 2,
   "id": "2ac40602",
   "metadata": {
    "scrolled": true
   },
   "outputs": [
    {
     "data": {
      "text/html": [
       "<div>\n",
       "<style scoped>\n",
       "    .dataframe tbody tr th:only-of-type {\n",
       "        vertical-align: middle;\n",
       "    }\n",
       "\n",
       "    .dataframe tbody tr th {\n",
       "        vertical-align: top;\n",
       "    }\n",
       "\n",
       "    .dataframe thead th {\n",
       "        text-align: right;\n",
       "    }\n",
       "</style>\n",
       "<table border=\"1\" class=\"dataframe\">\n",
       "  <thead>\n",
       "    <tr style=\"text-align: right;\">\n",
       "      <th></th>\n",
       "      <th>sepal.length</th>\n",
       "      <th>sepal.width</th>\n",
       "      <th>petal.length</th>\n",
       "      <th>petal.width</th>\n",
       "      <th>variety</th>\n",
       "    </tr>\n",
       "  </thead>\n",
       "  <tbody>\n",
       "    <tr>\n",
       "      <th>0</th>\n",
       "      <td>5.1</td>\n",
       "      <td>3.5</td>\n",
       "      <td>1.4</td>\n",
       "      <td>0.2</td>\n",
       "      <td>Setosa</td>\n",
       "    </tr>\n",
       "    <tr>\n",
       "      <th>1</th>\n",
       "      <td>4.9</td>\n",
       "      <td>3.0</td>\n",
       "      <td>1.4</td>\n",
       "      <td>0.2</td>\n",
       "      <td>Setosa</td>\n",
       "    </tr>\n",
       "    <tr>\n",
       "      <th>2</th>\n",
       "      <td>4.7</td>\n",
       "      <td>3.2</td>\n",
       "      <td>1.3</td>\n",
       "      <td>0.2</td>\n",
       "      <td>Setosa</td>\n",
       "    </tr>\n",
       "    <tr>\n",
       "      <th>3</th>\n",
       "      <td>4.6</td>\n",
       "      <td>3.1</td>\n",
       "      <td>1.5</td>\n",
       "      <td>0.2</td>\n",
       "      <td>Setosa</td>\n",
       "    </tr>\n",
       "    <tr>\n",
       "      <th>4</th>\n",
       "      <td>5.0</td>\n",
       "      <td>3.6</td>\n",
       "      <td>1.4</td>\n",
       "      <td>0.2</td>\n",
       "      <td>Setosa</td>\n",
       "    </tr>\n",
       "    <tr>\n",
       "      <th>...</th>\n",
       "      <td>...</td>\n",
       "      <td>...</td>\n",
       "      <td>...</td>\n",
       "      <td>...</td>\n",
       "      <td>...</td>\n",
       "    </tr>\n",
       "    <tr>\n",
       "      <th>145</th>\n",
       "      <td>6.7</td>\n",
       "      <td>3.0</td>\n",
       "      <td>5.2</td>\n",
       "      <td>2.3</td>\n",
       "      <td>Virginica</td>\n",
       "    </tr>\n",
       "    <tr>\n",
       "      <th>146</th>\n",
       "      <td>6.3</td>\n",
       "      <td>2.5</td>\n",
       "      <td>5.0</td>\n",
       "      <td>1.9</td>\n",
       "      <td>Virginica</td>\n",
       "    </tr>\n",
       "    <tr>\n",
       "      <th>147</th>\n",
       "      <td>6.5</td>\n",
       "      <td>3.0</td>\n",
       "      <td>5.2</td>\n",
       "      <td>2.0</td>\n",
       "      <td>Virginica</td>\n",
       "    </tr>\n",
       "    <tr>\n",
       "      <th>148</th>\n",
       "      <td>6.2</td>\n",
       "      <td>3.4</td>\n",
       "      <td>5.4</td>\n",
       "      <td>2.3</td>\n",
       "      <td>Virginica</td>\n",
       "    </tr>\n",
       "    <tr>\n",
       "      <th>149</th>\n",
       "      <td>5.9</td>\n",
       "      <td>3.0</td>\n",
       "      <td>5.1</td>\n",
       "      <td>1.8</td>\n",
       "      <td>Virginica</td>\n",
       "    </tr>\n",
       "  </tbody>\n",
       "</table>\n",
       "<p>150 rows × 5 columns</p>\n",
       "</div>"
      ],
      "text/plain": [
       "     sepal.length  sepal.width  petal.length  petal.width    variety\n",
       "0             5.1          3.5           1.4          0.2     Setosa\n",
       "1             4.9          3.0           1.4          0.2     Setosa\n",
       "2             4.7          3.2           1.3          0.2     Setosa\n",
       "3             4.6          3.1           1.5          0.2     Setosa\n",
       "4             5.0          3.6           1.4          0.2     Setosa\n",
       "..            ...          ...           ...          ...        ...\n",
       "145           6.7          3.0           5.2          2.3  Virginica\n",
       "146           6.3          2.5           5.0          1.9  Virginica\n",
       "147           6.5          3.0           5.2          2.0  Virginica\n",
       "148           6.2          3.4           5.4          2.3  Virginica\n",
       "149           5.9          3.0           5.1          1.8  Virginica\n",
       "\n",
       "[150 rows x 5 columns]"
      ]
     },
     "execution_count": 2,
     "metadata": {},
     "output_type": "execute_result"
    }
   ],
   "source": [
    "data = pd.read_csv('iris.csv')\n",
    "data"
   ]
  },
  {
   "cell_type": "code",
   "execution_count": 3,
   "id": "de3143f0",
   "metadata": {},
   "outputs": [],
   "source": [
    "#return np array with data of the selected species\n",
    "def arr(data, species):\n",
    "    array = data[data['variety'] == species]\n",
    "    array = array.drop(['variety'], axis = 1)\n",
    "    #array = array.to_numpy()\n",
    "    \n",
    "    return array\n",
    "\n",
    "\n",
    "setosa = arr(data, 'Setosa')\n",
    "virginica = arr(data, 'Virginica')\n",
    "versicolor = arr(data, 'Versicolor')\n",
    "    "
   ]
  },
  {
   "cell_type": "markdown",
   "id": "27e670af",
   "metadata": {},
   "source": [
    "## 2.1 Verificação de Normalidade"
   ]
  },
  {
   "cell_type": "code",
   "execution_count": 59,
   "id": "9cbc3604",
   "metadata": {},
   "outputs": [],
   "source": [
    "def qqplots(data):\n",
    "    #df = data.drop(['variety'], axis = 1)\n",
    "    for i in data['variety'].unique():\n",
    "        df = data[data['variety'] == i]\n",
    "        df = df.drop(['variety'], axis = 1)\n",
    "        print(f'QQPlots for {i}')\n",
    "        for j in df.columns: \n",
    "            print(j)\n",
    "            sm.qqplot(df[j], fit=True, line=\"45\")\n",
    "            plt.show()\n",
    "    "
   ]
  },
  {
   "cell_type": "code",
   "execution_count": 49,
   "id": "4f863480",
   "metadata": {
    "scrolled": true
   },
   "outputs": [
    {
     "name": "stdout",
     "output_type": "stream",
     "text": [
      "QQPlots for Setosa\n",
      "sepal.length\n"
     ]
    },
    {
     "data": {
      "image/png": "[encoded data removed]",
      "text/plain": [
       "<Figure size 432x288 with 1 Axes>"
      ]
     },
     "metadata": {
      "needs_background": "light"
     },
     "output_type": "display_data"
    },
    {
     "name": "stdout",
     "output_type": "stream",
     "text": [
      "sepal.width\n"
     ]
    },
    {
     "data": {
      "image/png": "[encoded data removed]",
      "text/plain": [
       "<Figure size 432x288 with 1 Axes>"
      ]
     },
     "metadata": {
      "needs_background": "light"
     },
     "output_type": "display_data"
    },
    {
     "name": "stdout",
     "output_type": "stream",
     "text": [
      "petal.length\n"
     ]
    },
    {
     "data": {
      "image/png": "[encoded data removed]",
      "text/plain": [
       "<Figure size 432x288 with 1 Axes>"
      ]
     },
     "metadata": {
      "needs_background": "light"
     },
     "output_type": "display_data"
    },
    {
     "name": "stdout",
     "output_type": "stream",
     "text": [
      "petal.width\n"
     ]
    },
    {
     "data": {
      "image/png": "[encoded data removed]",
      "text/plain": [
       "<Figure size 432x288 with 1 Axes>"
      ]
     },
     "metadata": {
      "needs_background": "light"
     },
     "output_type": "display_data"
    },
    {
     "name": "stdout",
     "output_type": "stream",
     "text": [
      "QQPlots for Versicolor\n",
      "sepal.length\n"
     ]
    },
    {
     "data": {
      "image/png": "[encoded data removed]",
      "text/plain": [
       "<Figure size 432x288 with 1 Axes>"
      ]
     },
     "metadata": {
      "needs_background": "light"
     },
     "output_type": "display_data"
    },
    {
     "name": "stdout",
     "output_type": "stream",
     "text": [
      "sepal.width\n"
     ]
    },
    {
     "data": {
      "image/png": "[encoded data removed]",
      "text/plain": [
       "<Figure size 432x288 with 1 Axes>"
      ]
     },
     "metadata": {
      "needs_background": "light"
     },
     "output_type": "display_data"
    },
    {
     "name": "stdout",
     "output_type": "stream",
     "text": [
      "petal.length\n"
     ]
    },
    {
     "data": {
      "image/png": "[encoded data removed]",
      "text/plain": [
       "<Figure size 432x288 with 1 Axes>"
      ]
     },
     "metadata": {
      "needs_background": "light"
     },
     "output_type": "display_data"
    },
    {
     "name": "stdout",
     "output_type": "stream",
     "text": [
      "petal.width\n"
     ]
    },
    {
     "data": {
      "image/png": "[encoded data removed]",
      "text/plain": [
       "<Figure size 432x288 with 1 Axes>"
      ]
     },
     "metadata": {
      "needs_background": "light"
     },
     "output_type": "display_data"
    },
    {
     "name": "stdout",
     "output_type": "stream",
     "text": [
      "QQPlots for Virginica\n",
      "sepal.length\n"
     ]
    },
    {
     "data": {
      "image/png": "[encoded data removed]",
      "text/plain": [
       "<Figure size 432x288 with 1 Axes>"
      ]
     },
     "metadata": {
      "needs_background": "light"
     },
     "output_type": "display_data"
    },
    {
     "name": "stdout",
     "output_type": "stream",
     "text": [
      "sepal.width\n"
     ]
    },
    {
     "data": {
      "image/png": "[encoded data removed]",
      "text/plain": [
       "<Figure size 432x288 with 1 Axes>"
      ]
     },
     "metadata": {
      "needs_background": "light"
     },
     "output_type": "display_data"
    },
    {
     "name": "stdout",
     "output_type": "stream",
     "text": [
      "petal.length\n"
     ]
    },
    {
     "data": {
      "image/png": "[encoded data removed]",
      "text/plain": [
       "<Figure size 432x288 with 1 Axes>"
      ]
     },
     "metadata": {
      "needs_background": "light"
     },
     "output_type": "display_data"
    },
    {
     "name": "stdout",
     "output_type": "stream",
     "text": [
      "petal.width\n"
     ]
    },
    {
     "data": {
      "image/png": "[encoded data removed]",
      "text/plain": [
       "<Figure size 432x288 with 1 Axes>"
      ]
     },
     "metadata": {
      "needs_background": "light"
     },
     "output_type": "display_data"
    }
   ],
   "source": [
    "qqplots(data)"
   ]
  },
  {
   "cell_type": "code",
   "execution_count": 79,
   "id": "bda2090f",
   "metadata": {},
   "outputs": [],
   "source": [
    "def normality_check(df):\n",
    "\n",
    "    \n",
    "    c = len(df.columns)\n",
    "    # Covariance matrix\n",
    "    covariance  = np.cov(df , rowvar=False)\n",
    "\n",
    "    # Covariance matrix power of -1\n",
    "    covariance_pm1 = np.linalg.matrix_power(covariance, -1)\n",
    "\n",
    "    # Center point\n",
    "    centerpoint = np.mean(df , axis=0)\n",
    "\n",
    "    df = df.to_numpy()\n",
    "    # Distances between center point and \n",
    "    distances = []\n",
    "    for i, val in enumerate(df):\n",
    "        p1 = val\n",
    "        p2 = centerpoint\n",
    "        distance = (p1-p2).T.dot(covariance_pm1).dot(p1-p2)\n",
    "        distances.append(distance)\n",
    "    \n",
    "    distances = np.array(distances)\n",
    "\n",
    "    \n",
    "    conf = []\n",
    "    for i in distances:\n",
    "        if i <= chi2.ppf(0.5,c):\n",
    "            conf.append(i)\n",
    "            \n",
    "    res1 = len(conf)/len(distances)\n",
    "    print(f'A porcentagem de observações menores do que o quantil de 50% da qui-quadrado com {c} graus de liberdade é de: {round(res1,3)}')\n",
    "    return distances\n",
    "\n",
    "\n",
    "#chiplot\n",
    "def chi_plot(distances):\n",
    "\n",
    "    \n",
    "    n = len(distances)\n",
    "    quantis = []\n",
    "    for j in range(1,n+1):\n",
    "        aux = (j-0.5)/n\n",
    "        quantis.append(chi2.ppf(aux,4))\n",
    "        \n",
    "    x = np.arange(0, max(distances))\n",
    "    sns.scatterplot(y = sorted(distances), x = quantis)\n",
    "    sns.lineplot(x =x , y=x, color = 'purple')\n",
    "    plt.xlabel('ChiSquare Quantile')\n",
    "    plt.ylabel('Distance')\n",
    "    plt.title('ChiSquare Plot')\n",
    "    plt.show()\n",
    "\n",
    "def normality_check_flower(data):\n",
    "    for i in data['variety'].unique(): \n",
    "        array = data[data['variety'] == i]\n",
    "        array = array.drop(['variety'], axis = 1)\n",
    "        print(f'Para a espécie {i}')\n",
    "        distances = normality_check(array)\n",
    "        chi_plot(distances)"
   ]
  },
  {
   "cell_type": "code",
   "execution_count": 75,
   "id": "3defb6eb",
   "metadata": {},
   "outputs": [
    {
     "name": "stdout",
     "output_type": "stream",
     "text": [
      "Para a espécie Setosa\n",
      "A porcentagem de observações menores do que o quantil de 50% da qui-quadrado com 5 graus de liberdade é de: 0.68\n"
     ]
    },
    {
     "data": {
      "image/png": "[encoded data removed]",
      "text/plain": [
       "<Figure size 432x288 with 1 Axes>"
      ]
     },
     "metadata": {
      "needs_background": "light"
     },
     "output_type": "display_data"
    },
    {
     "name": "stdout",
     "output_type": "stream",
     "text": [
      "Para a espécie Versicolor\n",
      "A porcentagem de observações menores do que o quantil de 50% da qui-quadrado com 5 graus de liberdade é de: 0.6\n"
     ]
    },
    {
     "data": {
      "image/png": "[encoded data removed]",
      "text/plain": [
       "<Figure size 432x288 with 1 Axes>"
      ]
     },
     "metadata": {
      "needs_background": "light"
     },
     "output_type": "display_data"
    },
    {
     "name": "stdout",
     "output_type": "stream",
     "text": [
      "Para a espécie Virginica\n",
      "A porcentagem de observações menores do que o quantil de 50% da qui-quadrado com 5 graus de liberdade é de: 0.7\n"
     ]
    },
    {
     "data": {
      "image/png": "[encoded data removed]",
      "text/plain": [
       "<Figure size 432x288 with 1 Axes>"
      ]
     },
     "metadata": {
      "needs_background": "light"
     },
     "output_type": "display_data"
    }
   ],
   "source": [
    "normality_check_flower(data)"
   ]
  },
  {
   "cell_type": "markdown",
   "id": "5d84c584",
   "metadata": {},
   "source": [
    "Assim concluímos que as 3 populações de interesse provém de uma distribuição normal."
   ]
  },
  {
   "cell_type": "markdown",
   "id": "ce453af3",
   "metadata": {},
   "source": [
    "## MANOVA"
   ]
  },
  {
   "cell_type": "code",
   "execution_count": 7,
   "id": "3c58c801",
   "metadata": {},
   "outputs": [],
   "source": [
    "data.columns = ['sepal_length', 'sepal_width', 'petal_length', 'petal_width',\n",
    "       'variety']"
   ]
  },
  {
   "cell_type": "code",
   "execution_count": 8,
   "id": "a39b1ff2",
   "metadata": {},
   "outputs": [
    {
     "data": {
      "text/plain": [
       "Index(['sepal_length', 'sepal_width', 'petal_length', 'petal_width',\n",
       "       'variety'],\n",
       "      dtype='object')"
      ]
     },
     "execution_count": 8,
     "metadata": {},
     "output_type": "execute_result"
    }
   ],
   "source": [
    "data.columns"
   ]
  },
  {
   "cell_type": "markdown",
   "id": "df2de030",
   "metadata": {},
   "source": [
    "$H_0: \\mu_1 = \\mu_2 = \\mu_3 = \\mu_4$ vs $H_1 \\mu_i \\neq \\mu_j (i,j) i,j = 1,2,3,4$"
   ]
  },
  {
   "cell_type": "code",
   "execution_count": 5,
   "id": "39df42a3",
   "metadata": {
    "scrolled": true
   },
   "outputs": [
    {
     "name": "stdout",
     "output_type": "stream",
     "text": [
      "                   Multivariate linear model\n",
      "================================================================\n",
      "                                                                \n",
      "----------------------------------------------------------------\n",
      "       Intercept         Value  Num DF  Den DF   F Value  Pr > F\n",
      "----------------------------------------------------------------\n",
      "          Wilks' lambda  0.0170 4.0000 144.0000 2086.7720 0.0000\n",
      "         Pillai's trace  0.9830 4.0000 144.0000 2086.7720 0.0000\n",
      " Hotelling-Lawley trace 57.9659 4.0000 144.0000 2086.7720 0.0000\n",
      "    Roy's greatest root 57.9659 4.0000 144.0000 2086.7720 0.0000\n",
      "----------------------------------------------------------------\n",
      "                                                                \n",
      "----------------------------------------------------------------\n",
      "        variety          Value  Num DF  Den DF   F Value  Pr > F\n",
      "----------------------------------------------------------------\n",
      "          Wilks' lambda  0.0234 8.0000 288.0000  199.1453 0.0000\n",
      "         Pillai's trace  1.1919 8.0000 290.0000   53.4665 0.0000\n",
      " Hotelling-Lawley trace 32.4773 8.0000 203.4024  582.1970 0.0000\n",
      "    Roy's greatest root 32.1919 4.0000 145.0000 1166.9574 0.0000\n",
      "================================================================\n",
      "\n"
     ]
    }
   ],
   "source": [
    "from statsmodels.multivariate.manova import MANOVA\n",
    "\n",
    "fit = MANOVA.from_formula( 'sepal_length + sepal_width+petal_length + petal_width ~ variety', data=data)\n",
    "print(fit.mv_test())"
   ]
  },
  {
   "cell_type": "markdown",
   "id": "c3be7848",
   "metadata": {},
   "source": [
    "Como o p-valor é muito baixo, ele é apresentado como 0. Isso nos indica de que a média das características analisadas das plantas é diferente para pelo menos um par de espécies, mas não nos indica entre quais espécies há essa diferença."
   ]
  },
  {
   "cell_type": "code",
   "execution_count": 4,
   "id": "de45f6c1",
   "metadata": {},
   "outputs": [],
   "source": [
    "setosa_vector = setosa.mean().to_numpy()\n",
    "versicolor_vector = versicolor.mean().to_numpy()\n",
    "virginica_vector = virginica.mean().to_numpy()\n",
    "\n",
    "#data[data['variety'] == 'Setosa']"
   ]
  },
  {
   "cell_type": "code",
   "execution_count": 18,
   "id": "cd847a1e",
   "metadata": {},
   "outputs": [
    {
     "data": {
      "text/plain": [
       "sepal.length    6.588\n",
       "sepal.width     2.974\n",
       "petal.length    5.552\n",
       "petal.width     2.026\n",
       "dtype: float64"
      ]
     },
     "execution_count": 18,
     "metadata": {},
     "output_type": "execute_result"
    }
   ],
   "source": [
    "virginica.mean()"
   ]
  },
  {
   "cell_type": "code",
   "execution_count": 5,
   "id": "a2752fc0",
   "metadata": {},
   "outputs": [],
   "source": [
    "#population and general means\n",
    "pop_mean_matrix = np.array((setosa_vector,versicolor_vector, virginica_vector))\n",
    "general_mean_matrix = data.drop(['variety'], axis = 1).mean().to_numpy()"
   ]
  },
  {
   "cell_type": "code",
   "execution_count": 6,
   "id": "173cc33f",
   "metadata": {},
   "outputs": [],
   "source": [
    "treatment_effect = pop_mean_matrix - general_mean_matrix"
   ]
  },
  {
   "cell_type": "code",
   "execution_count": 7,
   "id": "e4f84c5c",
   "metadata": {},
   "outputs": [
    {
     "data": {
      "text/plain": [
       "(array([[5.006, 3.428, 1.462, 0.246],\n",
       "        [5.936, 2.77 , 4.26 , 1.326],\n",
       "        [6.588, 2.974, 5.552, 2.026]]),\n",
       " array([5.84333333, 3.05733333, 3.758     , 1.19933333]))"
      ]
     },
     "execution_count": 7,
     "metadata": {},
     "output_type": "execute_result"
    }
   ],
   "source": [
    "pop_mean_matrix, general_mean_matrix"
   ]
  },
  {
   "cell_type": "code",
   "execution_count": 11,
   "id": "ae48e601",
   "metadata": {},
   "outputs": [],
   "source": [
    "n = 50 \n",
    "p = 4 #covariáveis\n",
    "g = 3 # populações\n",
    "alpha = 0.05\n",
    "m = p*g*(g-1)/m\n",
    "W = 49*setosa.cov().to_numpy() +49*virginica.cov().to_numpy() + 49*versicolor.cov().to_numpy()\n",
    "q = t.ppf(alpha/(m), 150-g )\n",
    "wii = W.diagonal()"
   ]
  },
  {
   "cell_type": "code",
   "execution_count": 12,
   "id": "bdc3a099",
   "metadata": {
    "scrolled": false
   },
   "outputs": [],
   "source": [
    "ics = []\n",
    "# i é a covariável e j com que espécie a setosa está sendo comparada, j=1 versicolor, j=2 virginica\n",
    "for i in range(0,p):\n",
    "    for j in range(1,3):\n",
    "        diff = pop_mean_matrix[0][i] - pop_mean_matrix[j][i] \n",
    "        lq = t.ppf(alpha/m, 150-g )* np.sqrt((1/49 + 1/49)*wii[i]/(150-g))\n",
    "        inf = diff + lq\n",
    "        sup = diff - lq\n",
    "        ics.append(('Setosa',data['variety'].unique()[j],setosa.columns[i] ,inf,sup))"
   ]
  },
  {
   "cell_type": "code",
   "execution_count": 13,
   "id": "2852152f",
   "metadata": {},
   "outputs": [
    {
     "data": {
      "text/html": [
       "<div>\n",
       "<style scoped>\n",
       "    .dataframe tbody tr th:only-of-type {\n",
       "        vertical-align: middle;\n",
       "    }\n",
       "\n",
       "    .dataframe tbody tr th {\n",
       "        vertical-align: top;\n",
       "    }\n",
       "\n",
       "    .dataframe thead th {\n",
       "        text-align: right;\n",
       "    }\n",
       "</style>\n",
       "<table border=\"1\" class=\"dataframe\">\n",
       "  <thead>\n",
       "    <tr style=\"text-align: right;\">\n",
       "      <th></th>\n",
       "      <th>Espécie A</th>\n",
       "      <th>Espécie B</th>\n",
       "      <th>Covariável</th>\n",
       "      <th>Inf(95%)</th>\n",
       "      <th>Sup(95%)</th>\n",
       "    </tr>\n",
       "  </thead>\n",
       "  <tbody>\n",
       "    <tr>\n",
       "      <th>0</th>\n",
       "      <td>Setosa</td>\n",
       "      <td>Versicolor</td>\n",
       "      <td>sepal.length</td>\n",
       "      <td>-1.232732066089699</td>\n",
       "      <td>-0.6272679339103022</td>\n",
       "    </tr>\n",
       "    <tr>\n",
       "      <th>1</th>\n",
       "      <td>Setosa</td>\n",
       "      <td>Virginica</td>\n",
       "      <td>sepal.length</td>\n",
       "      <td>-1.8847320660896973</td>\n",
       "      <td>-1.2792679339103006</td>\n",
       "    </tr>\n",
       "    <tr>\n",
       "      <th>2</th>\n",
       "      <td>Setosa</td>\n",
       "      <td>Versicolor</td>\n",
       "      <td>sepal.width</td>\n",
       "      <td>0.4582399394852197</td>\n",
       "      <td>0.857760060514781</td>\n",
       "    </tr>\n",
       "    <tr>\n",
       "      <th>3</th>\n",
       "      <td>Setosa</td>\n",
       "      <td>Virginica</td>\n",
       "      <td>sepal.width</td>\n",
       "      <td>0.2542399394852204</td>\n",
       "      <td>0.6537600605147817</td>\n",
       "    </tr>\n",
       "    <tr>\n",
       "      <th>4</th>\n",
       "      <td>Setosa</td>\n",
       "      <td>Versicolor</td>\n",
       "      <td>petal.length</td>\n",
       "      <td>-3.0510666594904943</td>\n",
       "      <td>-2.544933340509505</td>\n",
       "    </tr>\n",
       "    <tr>\n",
       "      <th>5</th>\n",
       "      <td>Setosa</td>\n",
       "      <td>Virginica</td>\n",
       "      <td>petal.length</td>\n",
       "      <td>-4.3430666594904945</td>\n",
       "      <td>-3.836933340509505</td>\n",
       "    </tr>\n",
       "    <tr>\n",
       "      <th>6</th>\n",
       "      <td>Setosa</td>\n",
       "      <td>Versicolor</td>\n",
       "      <td>petal.width</td>\n",
       "      <td>-1.2003484774939264</td>\n",
       "      <td>-0.9596515225060732</td>\n",
       "    </tr>\n",
       "    <tr>\n",
       "      <th>7</th>\n",
       "      <td>Setosa</td>\n",
       "      <td>Virginica</td>\n",
       "      <td>petal.width</td>\n",
       "      <td>-1.9003484774939263</td>\n",
       "      <td>-1.6596515225060733</td>\n",
       "    </tr>\n",
       "  </tbody>\n",
       "</table>\n",
       "</div>"
      ],
      "text/plain": [
       "  Espécie A   Espécie B    Covariável             Inf(95%)  \\\n",
       "0    Setosa  Versicolor  sepal.length   -1.232732066089699   \n",
       "1    Setosa   Virginica  sepal.length  -1.8847320660896973   \n",
       "2    Setosa  Versicolor   sepal.width   0.4582399394852197   \n",
       "3    Setosa   Virginica   sepal.width   0.2542399394852204   \n",
       "4    Setosa  Versicolor  petal.length  -3.0510666594904943   \n",
       "5    Setosa   Virginica  petal.length  -4.3430666594904945   \n",
       "6    Setosa  Versicolor   petal.width  -1.2003484774939264   \n",
       "7    Setosa   Virginica   petal.width  -1.9003484774939263   \n",
       "\n",
       "              Sup(95%)  \n",
       "0  -0.6272679339103022  \n",
       "1  -1.2792679339103006  \n",
       "2    0.857760060514781  \n",
       "3   0.6537600605147817  \n",
       "4   -2.544933340509505  \n",
       "5   -3.836933340509505  \n",
       "6  -0.9596515225060732  \n",
       "7  -1.6596515225060733  "
      ]
     },
     "execution_count": 13,
     "metadata": {},
     "output_type": "execute_result"
    }
   ],
   "source": [
    "ics = np.array(ics)\n",
    "ics_df = pd.DataFrame(ics, columns = ['Espécie A', 'Espécie B','Covariável', \n",
    "                                     'Inf(95%)', 'Sup(95%)'])\n",
    "ics_df"
   ]
  },
  {
   "cell_type": "markdown",
   "id": "dfda335a",
   "metadata": {},
   "source": [
    "Como nenhum intervalo de confiança contém 0, podemos afirmar que as médias de todas as características das flores diferem em relação a espécie."
   ]
  },
  {
   "cell_type": "markdown",
   "id": "951c16a7",
   "metadata": {},
   "source": [
    "# Questão 5.9"
   ]
  },
  {
   "cell_type": "code",
   "execution_count": 60,
   "id": "60fe3e7b",
   "metadata": {},
   "outputs": [
    {
     "data": {
      "text/plain": [
       "array([[3266.46, 1343.97,  731.54, 1175.5 ,  162.68,  238.37],\n",
       "       [1343.97,  721.91,  324.25,  537.35,   80.17,  117.73],\n",
       "       [ 731.54,  324.25,  179.28,  281.17,   39.15,   56.8 ],\n",
       "       [1175.5 ,  537.35,  281.17,  474.98,   63.73,   94.85],\n",
       "       [ 162.68,   80.17,   39.15,   63.73,    9.95,   13.88],\n",
       "       [ 238.37,  117.73,   56.8 ,   94.85,   13.88,   21.26]])"
      ]
     },
     "execution_count": 60,
     "metadata": {},
     "output_type": "execute_result"
    }
   ],
   "source": [
    "# Questâo 5.9\n",
    "n = 61\n",
    "names = ['Weight(kg)', 'Body length (cm)', 'Neck(cm)', 'Girth', 'Head length(cm)', 'Head width(cm)']\n",
    "sample_mean = np.array([95.52,164.38,55.69,93.39,17.98,31.13])\n",
    "cov = pd.read_csv('tables/table1.csv', sep = ',', header = None)\n",
    "cov.to_numpy()"
   ]
  },
  {
   "cell_type": "markdown",
   "id": "d916ef2e",
   "metadata": {},
   "source": [
    "## Item a - Interalos Simultâneos para Grandes Amostras"
   ]
  },
  {
   "cell_type": "code",
   "execution_count": 61,
   "id": "43206ac5",
   "metadata": {},
   "outputs": [
    {
     "data": {
      "text/html": [
       "<div>\n",
       "<style scoped>\n",
       "    .dataframe tbody tr th:only-of-type {\n",
       "        vertical-align: middle;\n",
       "    }\n",
       "\n",
       "    .dataframe tbody tr th {\n",
       "        vertical-align: top;\n",
       "    }\n",
       "\n",
       "    .dataframe thead th {\n",
       "        text-align: right;\n",
       "    }\n",
       "</style>\n",
       "<table border=\"1\" class=\"dataframe\">\n",
       "  <thead>\n",
       "    <tr style=\"text-align: right;\">\n",
       "      <th></th>\n",
       "      <th>Characteristic</th>\n",
       "      <th>Inf(95%)</th>\n",
       "      <th>Sup(95%)</th>\n",
       "    </tr>\n",
       "  </thead>\n",
       "  <tbody>\n",
       "    <tr>\n",
       "      <th>0</th>\n",
       "      <td>Weight(kg)</td>\n",
       "      <td>69.553465</td>\n",
       "      <td>121.486535</td>\n",
       "    </tr>\n",
       "    <tr>\n",
       "      <th>1</th>\n",
       "      <td>Body length (cm)</td>\n",
       "      <td>152.172778</td>\n",
       "      <td>176.587222</td>\n",
       "    </tr>\n",
       "    <tr>\n",
       "      <th>2</th>\n",
       "      <td>Neck(cm)</td>\n",
       "      <td>49.606672</td>\n",
       "      <td>61.773328</td>\n",
       "    </tr>\n",
       "    <tr>\n",
       "      <th>3</th>\n",
       "      <td>Girth</td>\n",
       "      <td>83.488227</td>\n",
       "      <td>103.291773</td>\n",
       "    </tr>\n",
       "    <tr>\n",
       "      <th>4</th>\n",
       "      <td>Head length(cm)</td>\n",
       "      <td>16.546866</td>\n",
       "      <td>19.413134</td>\n",
       "    </tr>\n",
       "    <tr>\n",
       "      <th>5</th>\n",
       "      <td>Head width(cm)</td>\n",
       "      <td>29.035131</td>\n",
       "      <td>33.224869</td>\n",
       "    </tr>\n",
       "  </tbody>\n",
       "</table>\n",
       "</div>"
      ],
      "text/plain": [
       "     Characteristic    Inf(95%)    Sup(95%)\n",
       "0        Weight(kg)   69.553465  121.486535\n",
       "1  Body length (cm)  152.172778  176.587222\n",
       "2          Neck(cm)   49.606672   61.773328\n",
       "3             Girth   83.488227  103.291773\n",
       "4   Head length(cm)   16.546866   19.413134\n",
       "5    Head width(cm)   29.035131   33.224869"
      ]
     },
     "execution_count": 61,
     "metadata": {},
     "output_type": "execute_result"
    }
   ],
   "source": [
    "def ic_bear_t2_large(sig, cov, sample_mean,p,n,names):\n",
    "    q = chi2.ppf(1-sig, df= p)\n",
    "    cov_diag = cov.to_numpy().diagonal()\n",
    "    res = []\n",
    "    for i in range(0, len(sample_mean)):\n",
    "        aux = np.sqrt(q*cov_diag[i]/n)\n",
    "        inf = sample_mean[i] - aux\n",
    "        sup = sample_mean[i] + aux\n",
    "        res.append((names[i], inf,sup))\n",
    "    \n",
    "    return res\n",
    "# item c - rever a funçao dos ics dps\n",
    "ic_bear_t2_large = ic_bear_t2_large(0.05, cov, sample_mean, 6, n, names)\n",
    "df_ic_bear_bonf = pd.DataFrame(ic_bear_t2_large, columns = ['Characteristic','Inf(95%)', 'Sup(95%)'])\n",
    "df_ic_bear_bonf"
   ]
  },
  {
   "cell_type": "markdown",
   "id": "eb644b30",
   "metadata": {},
   "source": [
    "## Item b - Diferença de Médias para Weight e Girth"
   ]
  },
  {
   "cell_type": "markdown",
   "id": "574c2d1a",
   "metadata": {},
   "source": [
    "Selecionando as características 'weight' e 'girth', temos as seguintes quantidades:"
   ]
  },
  {
   "cell_type": "code",
   "execution_count": 62,
   "id": "de628565",
   "metadata": {},
   "outputs": [
    {
     "data": {
      "text/latex": [
       "Weight and Girth Mean $\\mu$"
      ],
      "text/plain": [
       "<IPython.core.display.Latex object>"
      ]
     },
     "metadata": {},
     "output_type": "display_data"
    },
    {
     "name": "stdout",
     "output_type": "stream",
     "text": [
      "[95.52 93.39]\n"
     ]
    },
    {
     "data": {
      "text/latex": [
       "Weight and Girth Covariance $S$"
      ],
      "text/plain": [
       "<IPython.core.display.Latex object>"
      ]
     },
     "metadata": {},
     "output_type": "display_data"
    },
    {
     "name": "stdout",
     "output_type": "stream",
     "text": [
      "[[3266.46 1175.5 ]\n",
      " [1175.5   474.98]]\n"
     ]
    }
   ],
   "source": [
    "from IPython.display import display, Latex\n",
    "mean_weight_girth = np.array([sample_mean[0], sample_mean[3]])\n",
    "cov_weight_girth = np.array([[cov[0][0], cov[0][3]],\n",
    "                            [cov[0][3], cov[3][3]]])\n",
    "\n",
    "display(Latex(f'Weight and Girth Mean $\\mu$') )\n",
    "print(mean_weight_girth)\n",
    "display(Latex(f'Weight and Girth Covariance $S$') )\n",
    "print(cov_weight_girth)"
   ]
  },
  {
   "cell_type": "markdown",
   "id": "8506afa4",
   "metadata": {},
   "source": [
    "A região de $\\alpha\\%$ de confiança é definida como:\n",
    "    \n",
    "$$\n",
    "(\\mu - \\mu_0)S^{-1}(\\mu - \\mu_0)^T \\leq \\frac{\\chi^2_{1-\\alpha,p}}{n}\n",
    "$$"
   ]
  },
  {
   "cell_type": "markdown",
   "id": "cab0529e",
   "metadata": {},
   "source": [
    "Se $\\lambda_i$ é o i-ésimo autovalor da matriz de covariância e $e_i$ é seu autovetor normalizado associado, temos que os eixos da elipse são dados por:\n",
    "$$\n",
    "\\sqrt{\\lambda_i}\\sqrt{\\chi^2_{1-\\alpha,p}}e_i\n",
    "$$"
   ]
  },
  {
   "cell_type": "code",
   "execution_count": 82,
   "id": "d395ff7e",
   "metadata": {},
   "outputs": [
    {
     "data": {
      "text/plain": [
       "((array([3695.51872797,   45.92127203]),\n",
       "  array([[ 0.93938102, -0.34287505],\n",
       "         [ 0.34287505,  0.93938102]])),\n",
       " 215.7138068694742)"
      ]
     },
     "execution_count": 82,
     "metadata": {},
     "output_type": "execute_result"
    }
   ],
   "source": [
    "axes = eig(cov_weight_girth)\n",
    "inv_cov = inv(cov_weight_girth)\n",
    "sig = 0.05\n",
    "q = chi2.ppf(1-0.05, df= 6)\n",
    "ma = np.sqrt(axes[0][0]*q)\n",
    "me = np.sqrt(axes[0][1]*q)\n",
    "axes,ma"
   ]
  },
  {
   "cell_type": "code",
   "execution_count": 85,
   "id": "2028f701",
   "metadata": {},
   "outputs": [
    {
     "data": {
      "text/plain": [
       "<matplotlib.patches.Ellipse at 0x1c2fad9b4c0>"
      ]
     },
     "execution_count": 85,
     "metadata": {},
     "output_type": "execute_result"
    },
    {
     "data": {
      "image/png": "[encoded data removed]",
      "text/plain": [
       "<Figure size 648x216 with 1 Axes>"
      ]
     },
     "metadata": {
      "needs_background": "light"
     },
     "output_type": "display_data"
    }
   ],
   "source": [
    "fig, axs = plt.subplots(1, 1, figsize = (9,3))\n",
    "ell_radius_x = ma\n",
    "ell_radius_y = me\n",
    "ellipse = Ellipse((95.52,93.39),\n",
    "    width=ell_radius_x * 2,\n",
    "    height=ell_radius_y * 2,\n",
    "    facecolor=None)\n",
    "\n",
    "scale_x = np.sqrt(s[0][0])\n",
    "scale_y = np.sqrt(s[1][1])\n",
    "\n",
    "transf = transforms.Affine2D() \\\n",
    "    .rotate_deg() \\\n",
    "    .scale()\n",
    "\n",
    "\n",
    "axs.add_patch(ellipse)\n"
   ]
  },
  {
   "cell_type": "markdown",
   "id": "875ea6ed",
   "metadata": {},
   "source": [
    "Se E é o maior eixo e M, o menor, então o comprimento de cada um é dado por:\n",
    "\n",
    "$$\n",
    "E \\pm \\sqrt{3695.52}\\sqrt{12.59}*(0.9393,  0.342)^T\n",
    "$$\n",
    "\n",
    "$$\n",
    "M \\pm \\sqrt{45.92}\\sqrt{12.59}*(-0.342, 0.9393)^T\n",
    "$$\n",
    "\n",
    "Com a centróide:\n",
    "\n",
    "$$\n",
    "\\bar{x} = (95.52, 93.39)\n",
    "$$"
   ]
  },
  {
   "cell_type": "markdown",
   "id": "4f477576",
   "metadata": {},
   "source": [
    "## Item c "
   ]
  },
  {
   "cell_type": "code",
   "execution_count": 41,
   "id": "a6fca6e2",
   "metadata": {},
   "outputs": [
    {
     "data": {
      "text/html": [
       "<div>\n",
       "<style scoped>\n",
       "    .dataframe tbody tr th:only-of-type {\n",
       "        vertical-align: middle;\n",
       "    }\n",
       "\n",
       "    .dataframe tbody tr th {\n",
       "        vertical-align: top;\n",
       "    }\n",
       "\n",
       "    .dataframe thead th {\n",
       "        text-align: right;\n",
       "    }\n",
       "</style>\n",
       "<table border=\"1\" class=\"dataframe\">\n",
       "  <thead>\n",
       "    <tr style=\"text-align: right;\">\n",
       "      <th></th>\n",
       "      <th>Characteristic</th>\n",
       "      <th>Inf(95%)</th>\n",
       "      <th>Sup(95%)</th>\n",
       "    </tr>\n",
       "  </thead>\n",
       "  <tbody>\n",
       "    <tr>\n",
       "      <th>0</th>\n",
       "      <td>Weight(kg)</td>\n",
       "      <td>75.553314</td>\n",
       "      <td>115.486686</td>\n",
       "    </tr>\n",
       "    <tr>\n",
       "      <th>1</th>\n",
       "      <td>Body length (cm)</td>\n",
       "      <td>154.993388</td>\n",
       "      <td>173.766612</td>\n",
       "    </tr>\n",
       "    <tr>\n",
       "      <th>2</th>\n",
       "      <td>Neck(cm)</td>\n",
       "      <td>51.012291</td>\n",
       "      <td>60.367709</td>\n",
       "    </tr>\n",
       "    <tr>\n",
       "      <th>3</th>\n",
       "      <td>Girth</td>\n",
       "      <td>85.776138</td>\n",
       "      <td>101.003862</td>\n",
       "    </tr>\n",
       "    <tr>\n",
       "      <th>4</th>\n",
       "      <td>Head length(cm)</td>\n",
       "      <td>16.878007</td>\n",
       "      <td>19.081993</td>\n",
       "    </tr>\n",
       "    <tr>\n",
       "      <th>5</th>\n",
       "      <td>Head width(cm)</td>\n",
       "      <td>29.519173</td>\n",
       "      <td>32.740827</td>\n",
       "    </tr>\n",
       "  </tbody>\n",
       "</table>\n",
       "</div>"
      ],
      "text/plain": [
       "     Characteristic    Inf(95%)    Sup(95%)\n",
       "0        Weight(kg)   75.553314  115.486686\n",
       "1  Body length (cm)  154.993388  173.766612\n",
       "2          Neck(cm)   51.012291   60.367709\n",
       "3             Girth   85.776138  101.003862\n",
       "4   Head length(cm)   16.878007   19.081993\n",
       "5    Head width(cm)   29.519173   32.740827"
      ]
     },
     "execution_count": 41,
     "metadata": {},
     "output_type": "execute_result"
    }
   ],
   "source": [
    "def ic_bonf(sig, cov, sample_mean,p,n,names):\n",
    "    q = t.ppf(1-sig/(2*p), df= n-1)\n",
    "    cov_diag = cov.to_numpy().diagonal()\n",
    "    res = []\n",
    "    for i in range(0, len(sample_mean)):\n",
    "        aux = q*np.sqrt(cov_diag[i]/n)\n",
    "        inf = sample_mean[i] - aux\n",
    "        sup = sample_mean[i] + aux\n",
    "        res.append((names[i], inf,sup))\n",
    "    \n",
    "    return res\n",
    "\n",
    "\n",
    "# item c - rever a funçao dos ics dps\n",
    "ic_bear_bon = ic_bonf(0.05, cov, sample_mean, 6, n, names)\n",
    "df_ic_bear_bonf = pd.DataFrame(ic_bear_bon, columns = ['Characteristic','Inf(95%)', 'Sup(95%)'])\n",
    "df_ic_bear_bonf\n"
   ]
  },
  {
   "cell_type": "markdown",
   "id": "f2f69cb6",
   "metadata": {},
   "source": [
    "## Questão 5.20"
   ]
  },
  {
   "cell_type": "code",
   "execution_count": 42,
   "id": "b5974571",
   "metadata": {},
   "outputs": [],
   "source": [
    "#read data\n",
    "df = np.loadtxt('tables\\T5-12.dat', unpack = False)\n",
    "df = pd.DataFrame(df, columns = ['x_1 (Tail)', 'x_2 (Wing Lenght)'])\n"
   ]
  },
  {
   "cell_type": "markdown",
   "id": "ab72d332",
   "metadata": {},
   "source": [
    "## Item b"
   ]
  },
  {
   "cell_type": "markdown",
   "id": "47c61ff4",
   "metadata": {},
   "source": [
    "Calculando o intervalo de confiança utilizando $T^2$ de Hotelling"
   ]
  },
  {
   "cell_type": "code",
   "execution_count": 43,
   "id": "472f7082",
   "metadata": {},
   "outputs": [
    {
     "data": {
      "text/html": [
       "<div>\n",
       "<style scoped>\n",
       "    .dataframe tbody tr th:only-of-type {\n",
       "        vertical-align: middle;\n",
       "    }\n",
       "\n",
       "    .dataframe tbody tr th {\n",
       "        vertical-align: top;\n",
       "    }\n",
       "\n",
       "    .dataframe thead th {\n",
       "        text-align: right;\n",
       "    }\n",
       "</style>\n",
       "<table border=\"1\" class=\"dataframe\">\n",
       "  <thead>\n",
       "    <tr style=\"text-align: right;\">\n",
       "      <th></th>\n",
       "      <th>IC Bonferroni</th>\n",
       "      <th>Inf(95%)</th>\n",
       "      <th>Sup(95%)</th>\n",
       "    </tr>\n",
       "  </thead>\n",
       "  <tbody>\n",
       "    <tr>\n",
       "      <th>0</th>\n",
       "      <td>Tail length</td>\n",
       "      <td>189.821560</td>\n",
       "      <td>197.422885</td>\n",
       "    </tr>\n",
       "    <tr>\n",
       "      <th>1</th>\n",
       "      <td>Wing Length</td>\n",
       "      <td>274.781922</td>\n",
       "      <td>284.773633</td>\n",
       "    </tr>\n",
       "  </tbody>\n",
       "</table>\n",
       "</div>"
      ],
      "text/plain": [
       "  IC Bonferroni    Inf(95%)    Sup(95%)\n",
       "0   Tail length  189.821560  197.422885\n",
       "1   Wing Length  274.781922  284.773633"
      ]
     },
     "execution_count": 43,
     "metadata": {},
     "output_type": "execute_result"
    }
   ],
   "source": [
    "cov = df.cov()\n",
    "sample_mean = df.mean().to_numpy()\n",
    "sig = 0.05\n",
    "p = 2\n",
    "names = ['Tail length', 'Wing Length']\n",
    "n = len(df)\n",
    "ic_bear_bonf(sig, cov, sample_mean,p,n,names)\n",
    "\n",
    "\n",
    "ic_bird_bon = ic_bonf(sig, cov, sample_mean, 2, n, names)\n",
    "df_ic_bird_bonf = pd.DataFrame(ic_bird_bon, columns = ['IC Bonferroni','Inf(95%)', 'Sup(95%)'])\n",
    "df_ic_bird_bonf"
   ]
  },
  {
   "cell_type": "code",
   "execution_count": 44,
   "id": "de436370",
   "metadata": {
    "scrolled": true
   },
   "outputs": [
    {
     "data": {
      "text/html": [
       "<div>\n",
       "<style scoped>\n",
       "    .dataframe tbody tr th:only-of-type {\n",
       "        vertical-align: middle;\n",
       "    }\n",
       "\n",
       "    .dataframe tbody tr th {\n",
       "        vertical-align: top;\n",
       "    }\n",
       "\n",
       "    .dataframe thead th {\n",
       "        text-align: right;\n",
       "    }\n",
       "</style>\n",
       "<table border=\"1\" class=\"dataframe\">\n",
       "  <thead>\n",
       "    <tr style=\"text-align: right;\">\n",
       "      <th></th>\n",
       "      <th>IC T2 Hotelling</th>\n",
       "      <th>Inf(95%)</th>\n",
       "      <th>Sup(95%)</th>\n",
       "    </tr>\n",
       "  </thead>\n",
       "  <tbody>\n",
       "    <tr>\n",
       "      <th>0</th>\n",
       "      <td>Tail length</td>\n",
       "      <td>189.421724</td>\n",
       "      <td>197.822720</td>\n",
       "    </tr>\n",
       "    <tr>\n",
       "      <th>1</th>\n",
       "      <td>Wing Length</td>\n",
       "      <td>274.256351</td>\n",
       "      <td>285.299205</td>\n",
       "    </tr>\n",
       "  </tbody>\n",
       "</table>\n",
       "</div>"
      ],
      "text/plain": [
       "  IC T2 Hotelling    Inf(95%)    Sup(95%)\n",
       "0     Tail length  189.421724  197.822720\n",
       "1     Wing Length  274.256351  285.299205"
      ]
     },
     "execution_count": 44,
     "metadata": {},
     "output_type": "execute_result"
    }
   ],
   "source": [
    "def ic_t2(sig, cov, sample_mean,p,n,names):\n",
    "    q = f.ppf(1-sig,p, n-p)\n",
    "    cov_diag = cov.to_numpy().diagonal()\n",
    "    res = []\n",
    "    for i in range(0, len(sample_mean)):\n",
    "        aux = np.sqrt(p*(n-1)/(n-p))\n",
    "        aux = aux*np.sqrt(q*cov_diag[i]/n)\n",
    "        inf = sample_mean[i] - aux\n",
    "        sup = sample_mean[i] + aux\n",
    "        res.append((names[i], inf,sup))\n",
    "    \n",
    "    return res\n",
    "# item c - rever a funçao dos ics dps\n",
    "ic_bird_t2 = ic_t2(0.05, cov, sample_mean, 2, n, names)\n",
    "df_ic_bird_t2 = pd.DataFrame(ic_bird_t2, columns = ['IC T2 Hotelling','Inf(95%)', 'Sup(95%)'])\n",
    "df_ic_bird_t2"
   ]
  },
  {
   "cell_type": "markdown",
   "id": "3ec1e1e0",
   "metadata": {},
   "source": [
    "## Item c"
   ]
  },
  {
   "cell_type": "markdown",
   "id": "d4e09992",
   "metadata": {},
   "source": [
    "Abaixo, apresenta-se os QQPlots para o comprimento da cauda dos pássaros e o comprimento de suas asas, respectivamente."
   ]
  },
  {
   "cell_type": "code",
   "execution_count": 77,
   "id": "291a1ea6",
   "metadata": {
    "scrolled": true
   },
   "outputs": [
    {
     "data": {
      "image/png": "[encoded data removed]",
      "text/plain": [
       "<Figure size 432x288 with 1 Axes>"
      ]
     },
     "metadata": {
      "needs_background": "light"
     },
     "output_type": "display_data"
    },
    {
     "data": {
      "image/png": "[encoded data removed]",
      "text/plain": [
       "<Figure size 432x288 with 1 Axes>"
      ]
     },
     "metadata": {
      "needs_background": "light"
     },
     "output_type": "display_data"
    }
   ],
   "source": [
    "\n",
    "sm.qqplot(df['x_1 (Tail)'], fit=True, line=\"45\")\n",
    "sm.qqplot(df['x_2 (Wing Lenght)'], fit=True, line=\"45\")\n",
    "plt.show()"
   ]
  },
  {
   "cell_type": "code",
   "execution_count": 94,
   "id": "ff418bf2",
   "metadata": {
    "scrolled": false
   },
   "outputs": [
    {
     "name": "stdout",
     "output_type": "stream",
     "text": [
      "A porcentagem de observações menores do que o quantil de 50% da qui-quadrado com 2 graus de liberdade é de: 0.4\n"
     ]
    },
    {
     "data": {
      "image/png": "[encoded data removed]",
      "text/plain": [
       "<Figure size 432x288 with 1 Axes>"
      ]
     },
     "metadata": {
      "needs_background": "light"
     },
     "output_type": "display_data"
    }
   ],
   "source": [
    "distances = normality_check(df)\n",
    "chi_plot(distances)"
   ]
  },
  {
   "cell_type": "markdown",
   "id": "3f62471d",
   "metadata": {},
   "source": [
    "Pela porcentagem de observações abaixo da distribuição qui-quadrado com os parâmetros mencionados e, consequentemente, pelo grande desvio dos dados em relação a reta de apoio no CHiSquare acima, os dados parecem não ter distribuição normal. Além disso, podemos observar como a distribuição do comprimento da asa e da cauda dos pássaros não se assemelha à característica forma de elipse da função normal bivariada."
   ]
  },
  {
   "cell_type": "code",
   "execution_count": 95,
   "id": "4167d954",
   "metadata": {
    "scrolled": false
   },
   "outputs": [
    {
     "data": {
      "image/png": "[encoded data removed]",
      "text/plain": [
       "<Figure size 432x288 with 1 Axes>"
      ]
     },
     "metadata": {
      "needs_background": "light"
     },
     "output_type": "display_data"
    }
   ],
   "source": [
    "plt.scatter(df['x_1 (Tail)'],df['x_2 (Wing Lenght)'])\n",
    "plt.title('Distribution of Wing and Tail Length')\n",
    "plt.xlabel('Tail Lenth(cm)')\n",
    "plt.ylabel('Wing Length (cm)')\n",
    "plt.show()"
   ]
  },
  {
   "cell_type": "markdown",
   "id": "f9ebc3a5",
   "metadata": {},
   "source": [
    "## Questão 6.3"
   ]
  },
  {
   "cell_type": "markdown",
   "id": "851ccb64",
   "metadata": {},
   "source": [
    "Inicialmente apresentamos os intervalos de confiança simultâneos de T2 de Hotelling e de Bonferroni sem a retirada do outlier."
   ]
  },
  {
   "cell_type": "code",
   "execution_count": 57,
   "id": "1b97ccc9",
   "metadata": {},
   "outputs": [],
   "source": [
    "#read data\n",
    "df = np.loadtxt('tables\\T6-1.dat', unpack = False)\n",
    "df = pd.DataFrame(df, columns = ['x_1j1', 'x1j2', 'x2j1', 'x2j2' ])\n",
    "\n",
    "\n",
    "df['diff_1'] = df['x_1j1'] - df['x2j1']\n",
    "df['diff_2'] = df['x1j2'] - df['x2j2']\n",
    "\n",
    "sample_mean = df[['diff_1','diff_2']].mean().to_numpy()\n",
    "sample_cov = df[['diff_1','diff_2']].cov()\n",
    "names = ['Diff BOD', 'Diff SS']\n",
    "p = 2\n",
    "n = len(df)\n",
    "sig = 0.05"
   ]
  },
  {
   "cell_type": "code",
   "execution_count": 92,
   "id": "cdb5fc2e",
   "metadata": {},
   "outputs": [
    {
     "data": {
      "text/html": [
       "<div>\n",
       "<style scoped>\n",
       "    .dataframe tbody tr th:only-of-type {\n",
       "        vertical-align: middle;\n",
       "    }\n",
       "\n",
       "    .dataframe tbody tr th {\n",
       "        vertical-align: top;\n",
       "    }\n",
       "\n",
       "    .dataframe thead th {\n",
       "        text-align: right;\n",
       "    }\n",
       "</style>\n",
       "<table border=\"1\" class=\"dataframe\">\n",
       "  <thead>\n",
       "    <tr style=\"text-align: right;\">\n",
       "      <th></th>\n",
       "      <th>IC T2 Hotelling</th>\n",
       "      <th>Inf(95%)</th>\n",
       "      <th>Sup(95%)</th>\n",
       "    </tr>\n",
       "  </thead>\n",
       "  <tbody>\n",
       "    <tr>\n",
       "      <th>0</th>\n",
       "      <td>Diff BOD</td>\n",
       "      <td>-22.453272</td>\n",
       "      <td>3.726000</td>\n",
       "    </tr>\n",
       "    <tr>\n",
       "      <th>1</th>\n",
       "      <td>Diff SS</td>\n",
       "      <td>-5.700119</td>\n",
       "      <td>32.245574</td>\n",
       "    </tr>\n",
       "  </tbody>\n",
       "</table>\n",
       "</div>"
      ],
      "text/plain": [
       "  IC T2 Hotelling   Inf(95%)   Sup(95%)\n",
       "0        Diff BOD -22.453272   3.726000\n",
       "1         Diff SS  -5.700119  32.245574"
      ]
     },
     "execution_count": 92,
     "metadata": {},
     "output_type": "execute_result"
    }
   ],
   "source": [
    "ic_lab = ic_t2(sig, sample_cov, sample_mean, p, n, names)\n",
    "df_ic_lab_t2 = pd.DataFrame(ic_lab, columns = ['IC T2 Hotelling','Inf(95%)', 'Sup(95%)'])\n",
    "df_ic_lab_t2"
   ]
  },
  {
   "cell_type": "code",
   "execution_count": 51,
   "id": "c14992c0",
   "metadata": {},
   "outputs": [
    {
     "data": {
      "text/html": [
       "<div>\n",
       "<style scoped>\n",
       "    .dataframe tbody tr th:only-of-type {\n",
       "        vertical-align: middle;\n",
       "    }\n",
       "\n",
       "    .dataframe tbody tr th {\n",
       "        vertical-align: top;\n",
       "    }\n",
       "\n",
       "    .dataframe thead th {\n",
       "        text-align: right;\n",
       "    }\n",
       "</style>\n",
       "<table border=\"1\" class=\"dataframe\">\n",
       "  <thead>\n",
       "    <tr style=\"text-align: right;\">\n",
       "      <th></th>\n",
       "      <th>Bonferroni</th>\n",
       "      <th>Inf(95%)</th>\n",
       "      <th>Sup(95%)</th>\n",
       "    </tr>\n",
       "  </thead>\n",
       "  <tbody>\n",
       "    <tr>\n",
       "      <th>0</th>\n",
       "      <td>Diff BOD</td>\n",
       "      <td>-20.573107</td>\n",
       "      <td>1.845835</td>\n",
       "    </tr>\n",
       "    <tr>\n",
       "      <th>1</th>\n",
       "      <td>Diff SS</td>\n",
       "      <td>-2.974903</td>\n",
       "      <td>29.520358</td>\n",
       "    </tr>\n",
       "  </tbody>\n",
       "</table>\n",
       "</div>"
      ],
      "text/plain": [
       "  Bonferroni   Inf(95%)   Sup(95%)\n",
       "0   Diff BOD -20.573107   1.845835\n",
       "1    Diff SS  -2.974903  29.520358"
      ]
     },
     "execution_count": 51,
     "metadata": {},
     "output_type": "execute_result"
    }
   ],
   "source": [
    "ic_lab_bon = ic_bonf(sig, sample_cov, sample_mean, p, n, names)\n",
    "df_ic_lab_bonf = pd.DataFrame(ic_lab_bon, columns = ['Bonferroni','Inf(95%)', 'Sup(95%)'])\n",
    "df_ic_lab_bonf\n"
   ]
  },
  {
   "cell_type": "markdown",
   "id": "02a1698f",
   "metadata": {},
   "source": [
    "Com a retirada do outlier 8, temos os seguintes resultados:"
   ]
  },
  {
   "cell_type": "code",
   "execution_count": 58,
   "id": "f3010a57",
   "metadata": {},
   "outputs": [
    {
     "name": "stdout",
     "output_type": "stream",
     "text": [
      "Sem outlier\n"
     ]
    },
    {
     "data": {
      "text/html": [
       "<div>\n",
       "<style scoped>\n",
       "    .dataframe tbody tr th:only-of-type {\n",
       "        vertical-align: middle;\n",
       "    }\n",
       "\n",
       "    .dataframe tbody tr th {\n",
       "        vertical-align: top;\n",
       "    }\n",
       "\n",
       "    .dataframe thead th {\n",
       "        text-align: right;\n",
       "    }\n",
       "</style>\n",
       "<table border=\"1\" class=\"dataframe\">\n",
       "  <thead>\n",
       "    <tr style=\"text-align: right;\">\n",
       "      <th></th>\n",
       "      <th>IC T2 Hotelling</th>\n",
       "      <th>Inf(95%)</th>\n",
       "      <th>Sup(95%)</th>\n",
       "    </tr>\n",
       "  </thead>\n",
       "  <tbody>\n",
       "    <tr>\n",
       "      <th>0</th>\n",
       "      <td>Diff BOD</td>\n",
       "      <td>-23.700016</td>\n",
       "      <td>-0.299984</td>\n",
       "    </tr>\n",
       "    <tr>\n",
       "      <th>1</th>\n",
       "      <td>Diff SS</td>\n",
       "      <td>-5.503711</td>\n",
       "      <td>22.703711</td>\n",
       "    </tr>\n",
       "  </tbody>\n",
       "</table>\n",
       "</div>"
      ],
      "text/plain": [
       "  IC T2 Hotelling   Inf(95%)   Sup(95%)\n",
       "0        Diff BOD -23.700016  -0.299984\n",
       "1         Diff SS  -5.503711  22.703711"
      ]
     },
     "execution_count": 58,
     "metadata": {},
     "output_type": "execute_result"
    }
   ],
   "source": [
    "df = df.drop([7], axis = 0)\n",
    "sample_mean = df[['diff_1','diff_2']].mean().to_numpy()\n",
    "sample_cov = df[['diff_1','diff_2']].cov()\n",
    "names = ['Diff BOD', 'Diff SS']\n",
    "p = 2\n",
    "n = len(df)\n",
    "sig = 0.05\n",
    "\n",
    "ic_lab = ic_t2(sig, sample_cov, sample_mean, p, n, names)\n",
    "df_ic_lab_t2 = pd.DataFrame(ic_lab, columns = ['IC T2 Hotelling','Inf(95%)', 'Sup(95%)'])\n",
    "print('Sem outlier')\n",
    "df_ic_lab_t2"
   ]
  },
  {
   "cell_type": "code",
   "execution_count": 59,
   "id": "53854fc9",
   "metadata": {},
   "outputs": [
    {
     "name": "stdout",
     "output_type": "stream",
     "text": [
      "Sem outlier\n"
     ]
    },
    {
     "data": {
      "text/html": [
       "<div>\n",
       "<style scoped>\n",
       "    .dataframe tbody tr th:only-of-type {\n",
       "        vertical-align: middle;\n",
       "    }\n",
       "\n",
       "    .dataframe tbody tr th {\n",
       "        vertical-align: top;\n",
       "    }\n",
       "\n",
       "    .dataframe thead th {\n",
       "        text-align: right;\n",
       "    }\n",
       "</style>\n",
       "<table border=\"1\" class=\"dataframe\">\n",
       "  <thead>\n",
       "    <tr style=\"text-align: right;\">\n",
       "      <th></th>\n",
       "      <th>Bonferroni</th>\n",
       "      <th>Inf(95%)</th>\n",
       "      <th>Sup(95%)</th>\n",
       "    </tr>\n",
       "  </thead>\n",
       "  <tbody>\n",
       "    <tr>\n",
       "      <th>0</th>\n",
       "      <td>Diff BOD</td>\n",
       "      <td>-21.917997</td>\n",
       "      <td>-2.082003</td>\n",
       "    </tr>\n",
       "    <tr>\n",
       "      <th>1</th>\n",
       "      <td>Diff SS</td>\n",
       "      <td>-3.355587</td>\n",
       "      <td>20.555587</td>\n",
       "    </tr>\n",
       "  </tbody>\n",
       "</table>\n",
       "</div>"
      ],
      "text/plain": [
       "  Bonferroni   Inf(95%)   Sup(95%)\n",
       "0   Diff BOD -21.917997  -2.082003\n",
       "1    Diff SS  -3.355587  20.555587"
      ]
     },
     "execution_count": 59,
     "metadata": {},
     "output_type": "execute_result"
    }
   ],
   "source": [
    "ic_lab_bon = ic_bonf(sig, sample_cov, sample_mean, p, n, names)\n",
    "df_ic_lab_bonf = pd.DataFrame(ic_lab_bon, columns = ['Bonferroni','Inf(95%)', 'Sup(95%)'])\n",
    "print('Sem outlier')\n",
    "df_ic_lab_bonf\n"
   ]
  },
  {
   "cell_type": "markdown",
   "id": "00910191",
   "metadata": {},
   "source": [
    "Após a retirada da observação outlier, os intervalos de confiança não contém o valor 0, o que significa que, com 95% de confiança, rejeitamos $H_0: \\delta = 0 $ e há diferença significativa entre os pares de média."
   ]
  },
  {
   "cell_type": "markdown",
   "id": "3e8ec030",
   "metadata": {},
   "source": [
    "# Questão 6.8"
   ]
  },
  {
   "cell_type": "code",
   "execution_count": 8,
   "id": "7bb24571",
   "metadata": {},
   "outputs": [],
   "source": [
    "treat1 = np.array([[6,5,8,4,7], [7,9,6,9,9]])\n",
    "treat2 = np.array([[3,1,2], [3,6,3]])\n",
    "treat3 = np.array([[2,5,3,2], [3,1,1,3]])\n",
    "\n",
    "n1 = treat1.shape[1]\n",
    "n2 = treat2.shape[1]\n",
    "n3 = treat3.shape[1]\n",
    "n = n1+n2+n3\n",
    "ns = [n1,n2,n3]\n",
    "\n",
    "#overall means\n",
    "overall_mean = (np.sum(treat1, axis = 1)+np.sum(treat2, axis = 1) + np.sum(treat3, axis = 1))/(n)\n",
    "overall_mean = overall_mean.reshape((2,1))\n",
    "\n",
    "#treatment means\n",
    "treat1_mean = treat1.mean(axis = 1).reshape((2,1))\n",
    "treat2_mean = treat2.mean(axis = 1).reshape((2,1))\n",
    "treat3_mean = treat3.mean(axis = 1).reshape((2,1))\n",
    "treat_mean = [treat1_mean, treat2_mean, treat3_mean]\n",
    "\n",
    "#treatment effect \n",
    "treat1_effect = treat1_mean - overall_mean\n",
    "treat2_effect = treat2_mean - overall_mean\n",
    "treat3_effect = treat3_mean- overall_mean\n",
    "\n",
    "\n",
    "#residuals\n",
    "res_t1 = treat1 - treat1_mean\n",
    "res_t2 = treat2 - treat2_mean\n",
    "res_t3= treat3 - treat3_mean"
   ]
  },
  {
   "cell_type": "markdown",
   "id": "daa8697c",
   "metadata": {},
   "source": [
    "Para a primeira covariável, temos:"
   ]
  },
  {
   "cell_type": "markdown",
   "id": "bded0472",
   "metadata": {},
   "source": [
    "                 Observações    =     Média Geral    +       Média do Tratamento  +         Resíduos          "
   ]
  },
  {
   "cell_type": "markdown",
   "id": "f7a80a49",
   "metadata": {},
   "source": [
    "$$\n",
    "\\begin{pmatrix}\n",
    "6 & 5 & 8 & 4 &7 \\\\    \n",
    "3 & 1 & 2  \\\\\n",
    "2 & 5 & 3 & 2 \\\\\n",
    "\\end{pmatrix}\n",
    "=\n",
    "\\begin{pmatrix}\n",
    "4 & 4 & 4 & 4 &4 \\\\    \n",
    "4 & 4 & 4  \\\\\n",
    "4 & 4 & 4 & 4 \\\\\n",
    "\\end{pmatrix}\n",
    "+\n",
    "\\begin{pmatrix}\n",
    "2 & 2 & 2 & 2 & 2 \\\\    \n",
    "-2 & -2 & -2  \\\\\n",
    "-1 & -1 & -1 & -1 \\\\\n",
    "\\end{pmatrix}\n",
    "+\n",
    "\\begin{pmatrix}\n",
    "0 & -1 & 2 & -2 & 1 \\\\    \n",
    "1 & -1 & 0  \\\\\n",
    "-1 & 2 & 0 & -1 \\\\\n",
    "\\end{pmatrix}\n",
    "$$"
   ]
  },
  {
   "cell_type": "markdown",
   "id": "17c54109",
   "metadata": {},
   "source": [
    "Para a segunda covariável:                                "
   ]
  },
  {
   "cell_type": "markdown",
   "id": "b7a51939",
   "metadata": {},
   "source": [
    "                 Observações    =     Média Geral    +       Média do Tratamento  +         Resíduos          "
   ]
  },
  {
   "cell_type": "markdown",
   "id": "4fb100d4",
   "metadata": {},
   "source": [
    "$$\n",
    "\\begin{pmatrix}\n",
    "7 & 9 & 6 & 9 &9 \\\\    \n",
    "3 & 6 & 3  \\\\\n",
    "3 & 1 & 1 & 3 \\\\\n",
    "\\end{pmatrix}\n",
    "=\n",
    "\\begin{pmatrix}\n",
    "5 & 5 & 5 & 5 &5 \\\\    \n",
    "5 & 5 & 5  \\\\\n",
    "5 & 5 & 5 & 5 \\\\\n",
    "\\end{pmatrix}\n",
    "+\n",
    "\\begin{pmatrix}\n",
    "3 & 3 & 3 & 3 & 3 \\\\    \n",
    "-1 & -1 & -1  \\\\\n",
    "-3 & -3 & -3 & -3 \\\\\n",
    "\\end{pmatrix}\n",
    "+\n",
    "\\begin{pmatrix}\n",
    "-1 & 1 & -2 & 1 & 1 \\\\    \n",
    "-1 & 2 & -1  \\\\\n",
    "1 & -1 & -1 & 1 \\\\\n",
    "\\end{pmatrix}\n",
    "$$"
   ]
  },
  {
   "cell_type": "markdown",
   "id": "15afb9b2",
   "metadata": {},
   "source": [
    "## Item b"
   ]
  },
  {
   "cell_type": "markdown",
   "id": "2f310795",
   "metadata": {},
   "source": [
    "Calculando a soma dos quadrados individuais e cruzadas:"
   ]
  },
  {
   "cell_type": "code",
   "execution_count": 126,
   "id": "d289ec22",
   "metadata": {},
   "outputs": [],
   "source": [
    "# index relativo as variáveis\n",
    "ssq_mean_1 = n*overall_mean[0][0]**2\n",
    "ssq_mean_2 = n*overall_mean[1][0]**2\n",
    "\n",
    "ssq_treat_1 = n1*treat1_effect[0][0]**2 + n2*treat2_effect[0][0]**2 + n3*treat3_effect[0][0]**2\n",
    "ssq_treat_2 = n1*treat1_effect[1][0]**2 + n2*treat2_effect[1][0]**2 + n3*treat3_effect[1][0]**2\n",
    "\n",
    "ssq_res_1 = np.sum(res_t1[0]**2) + np.sum(res_t2[0]**2) + np.sum(res_t3[0]**2)\n",
    "ssq_res_2 = np.sum(res_t1[1]**2) + np.sum(res_t2[1]**2) + np.sum(res_t3[1]**2)\n",
    "\n",
    "cross_mean = 12*overall_mean[0][0]*overall_mean[1][0]\n",
    "cross_effect = n1*treat1_effect[0][0]*treat1_effect[1][0] + n2*treat2_effect[0][0]*treat2_effect[1][0] + n3*treat3_effect[0][0]*treat3_effect[1][0]\n",
    "cross_res = np.sum(res_t1[0]*res_t1[1]) + np.sum(res_t2[0]*res_t2[1]) +np.sum(res_t3[0]*res_t3[1])\n",
    "\n"
   ]
  },
  {
   "cell_type": "code",
   "execution_count": 133,
   "id": "de04052f",
   "metadata": {},
   "outputs": [
    {
     "name": "stdout",
     "output_type": "stream",
     "text": [
      "Matriz de tratamento: (B) \n",
      " [[36. 48.]\n",
      " [48. 84.]]\n",
      "Matriz de Resíduos: (W) \n",
      " [[ 18. -13.]\n",
      " [-13.  18.]]\n",
      "Total (B + W): \n",
      " [[ 54.  35.]\n",
      " [ 35. 102.]]\n",
      "Graus de Liberdade Tratamento  (g-1):  2\n",
      "Graus de Liberdade Resíduos  (n-g):  9\n"
     ]
    }
   ],
   "source": [
    "treatment = np.array([[ssq_treat_1, cross_effect], [cross_effect,ssq_treat_2]])\n",
    "residual = np.array([[ssq_res_1, cross_res], [cross_res, ssq_res_2]])\n",
    "total = treatment + residual\n",
    "\n",
    "\n",
    "print('Matriz de tratamento: (B) \\n', treatment)\n",
    "print('Matriz de Resíduos: (W) \\n', residual)\n",
    "print('Total (B + W): \\n', treatment + residual)\n",
    "print('Graus de Liberdade Tratamento  (g-1): ', 2 )\n",
    "print('Graus de Liberdade Resíduos  (n-g): ', 9 )"
   ]
  },
  {
   "cell_type": "code",
   "execution_count": 136,
   "id": "6f86d2a6",
   "metadata": {},
   "outputs": [
    {
     "name": "stdout",
     "output_type": "stream",
     "text": [
      "|W| =  155.00000000000003\n",
      "|W + B| =  4282.999999999997\n"
     ]
    }
   ],
   "source": [
    "print('|W| = ' ,det(residual))\n",
    "print('|W + B| = ', det(total))\n",
    "lamda = det(residual)/det(total)\n",
    "p = 2\n",
    "g = 3"
   ]
  },
  {
   "cell_type": "code",
   "execution_count": 137,
   "id": "6d0e35a1",
   "metadata": {},
   "outputs": [
    {
     "data": {
      "text/plain": [
       "0.0361895867382676"
      ]
     },
     "execution_count": 137,
     "metadata": {},
     "output_type": "execute_result"
    }
   ],
   "source": [
    "lamda"
   ]
  },
  {
   "cell_type": "markdown",
   "id": "025d1732",
   "metadata": {},
   "source": [
    "Calculando Lambda de Wilks: "
   ]
  },
  {
   "cell_type": "markdown",
   "id": "babab591",
   "metadata": {},
   "source": [
    "$$\n",
    "\\Lambda^*  = \\frac{|W|}{|B++W|} = \\frac{720}{4282.999} = 0.036\n",
    "$$"
   ]
  },
  {
   "cell_type": "markdown",
   "id": "dacb8fd2",
   "metadata": {},
   "source": [
    "em que"
   ]
  },
  {
   "cell_type": "markdown",
   "id": "a6c0e1d6",
   "metadata": {},
   "source": [
    "$$\n",
    "\\frac{1- \\sqrt{\\Lambda^*}}{\\sqrt{\\Lambda^*}}\\frac{\\sum n_l - g - 1}{g-1} \\sim F_{2(g-1),2(\\sum n_l - g - 1)} = F_{4,16}\n",
    "$$"
   ]
  },
  {
   "cell_type": "markdown",
   "id": "e760f0b6",
   "metadata": {},
   "source": [
    "Calculando a estatística de teste, obtemos que:"
   ]
  },
  {
   "cell_type": "code",
   "execution_count": 138,
   "id": "297b327c",
   "metadata": {},
   "outputs": [
    {
     "name": "stdout",
     "output_type": "stream",
     "text": [
      "Estatística de teste = 17.02655770762912 e quantil de 99% da F = 4.772577999723211\n"
     ]
    }
   ],
   "source": [
    "estat = ((1-np.sqrt(lamda))/np.sqrt(lamda))*((n-g-1)/(g-1))\n",
    "alpha = 0.01\n",
    "f_crit = f.ppf(1-alpha,4,16)\n",
    "print((f'Estatística de teste = {estat} e quantil de 99% da F = {f_crit}'))"
   ]
  },
  {
   "cell_type": "markdown",
   "id": "2baf5269",
   "metadata": {},
   "source": [
    "Como a estatística de teste é maior do que o quantil da $F_{4,16}$, rejeitamos a hipótese nula e concluimos que há diferença entre as médias dos diferentes tratamento, ao nível de 1% de significância."
   ]
  },
  {
   "cell_type": "markdown",
   "id": "ab9112c5",
   "metadata": {},
   "source": [
    "Usando a aproximação de Bartlett:\n",
    "    "
   ]
  },
  {
   "cell_type": "markdown",
   "id": "cc0aaf8b",
   "metadata": {},
   "source": [
    "$$\n",
    "-(n-1-\\frac{p+g}{2})\\log(\\Lambda^*) \\sim \\chi^2_{p(g-1)}\n",
    "$$"
   ]
  },
  {
   "cell_type": "code",
   "execution_count": 142,
   "id": "a4f0b43a",
   "metadata": {},
   "outputs": [
    {
     "name": "stdout",
     "output_type": "stream",
     "text": [
      "Estatística de teste: 28.21136281591705 e quantil de 99% da Chiquadrado = 13.276704135987622\n"
     ]
    }
   ],
   "source": [
    "\n",
    "bartlett = -(n-1-(p+g)/2)*np.log(lamda)\n",
    "chi = chi2.ppf(0.99,p*(g-1))\n",
    "\n",
    "print(f'Estatística de teste: {bartlett} e quantil de 99% da Chiquadrado = {chi}')"
   ]
  },
  {
   "cell_type": "markdown",
   "id": "ec4f2b91",
   "metadata": {},
   "source": [
    "Como nossa estatística de teste é maior do que o quantil da regiào crítica, também rejeitamos a hipótese nula e concluimos que há diferença entre média pelos menos entre dois tratamentos."
   ]
  }
 ],
 "metadata": {
  "kernelspec": {
   "display_name": "Python 3 (ipykernel)",
   "language": "python",
   "name": "python3"
  },
  "language_info": {
   "codemirror_mode": {
    "name": "ipython",
    "version": 3
   },
   "file_extension": ".py",
   "mimetype": "text/x-python",
   "name": "python",
   "nbconvert_exporter": "python",
   "pygments_lexer": "ipython3",
   "version": "3.9.12"
  }
 },
 "nbformat": 4,
 "nbformat_minor": 5
}
