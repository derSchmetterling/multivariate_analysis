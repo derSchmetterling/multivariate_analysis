{
 "cells": [
  {
   "cell_type": "code",
   "execution_count": 1,
   "id": "692ba19f",
   "metadata": {},
   "outputs": [],
   "source": [
    "import pandas as pd\n",
    "import numpy as np \n",
    "import statsmodels.api as sm\n",
    "import matplotlib.pyplot as plt\n",
    "import statsmodels.formula.api as smf\n",
    "import statsmodels.stats.api as sms\n",
    "import seaborn as sns\n",
    "from scipy.stats import t\n",
    "import scipy as sc\n",
    "from scipy.stats import chi2\n"
   ]
  },
  {
   "cell_type": "code",
   "execution_count": 30,
   "id": "b546a581",
   "metadata": {
    "scrolled": false
   },
   "outputs": [
    {
     "name": "stdout",
     "output_type": "stream",
     "text": [
      "The rpy2.ipython extension is already loaded. To reload it, use:\n",
      "  %reload_ext rpy2.ipython\n"
     ]
    }
   ],
   "source": [
    "import os\n",
    "os.environ['R_HOME'] = '/Users/alves/anaconda3/envs/deep-networks/Lib/R'\n",
    "\n",
    "%load_ext rpy2.ipython"
   ]
  },
  {
   "cell_type": "markdown",
   "id": "cebe5850",
   "metadata": {},
   "source": [
    "# Questão 2"
   ]
  },
  {
   "cell_type": "markdown",
   "id": "8bad6fed",
   "metadata": {},
   "source": [
    "## a) Modelo"
   ]
  },
  {
   "cell_type": "code",
   "execution_count": 17,
   "id": "5596f15c",
   "metadata": {},
   "outputs": [
    {
     "data": {
      "text/plain": [
       "Index(['Experimento', 'Y1', 'Y2', 'Y3', 'X1', 'X2', 'X3'], dtype='object')"
      ]
     },
     "execution_count": 17,
     "metadata": {},
     "output_type": "execute_result"
    }
   ],
   "source": [
    "df = pd.read_csv('exp_table.csv', sep = ',')\n",
    "df.columns"
   ]
  },
  {
   "cell_type": "code",
   "execution_count": null,
   "id": "08f70688",
   "metadata": {},
   "outputs": [],
   "source": []
  },
  {
   "cell_type": "code",
   "execution_count": 8,
   "id": "818ba742",
   "metadata": {},
   "outputs": [
    {
     "data": {
      "text/plain": [
       "(array([[-1.54596082, -1.42455873, -2.23736565],\n",
       "        [ 0.40455059,  0.29298999,  1.03380047],\n",
       "        [ 0.91392477,  0.89947254,  1.15348549]]),\n",
       " array([ 332.11098334,  -26.03526431, -164.0789411 ]))"
      ]
     },
     "execution_count": 8,
     "metadata": {},
     "output_type": "execute_result"
    }
   ],
   "source": [
    "from sklearn import linear_model\n",
    "y = df[['Y1','Y2','Y3']]\n",
    "x = df[['X1','X2','X3']]\n",
    "clf = linear_model.LinearRegression().fit(x,y)\n",
    "clf.coef_, clf.intercept_\n"
   ]
  },
  {
   "cell_type": "code",
   "execution_count": 9,
   "id": "7beb2046",
   "metadata": {},
   "outputs": [],
   "source": [
    "betas = np.vstack([clf.intercept_, clf.coef_.T])\n",
    "z = sm.add_constant(x.to_numpy())\n",
    "yi = y.to_numpy()\n",
    "\n",
    "\n",
    "\n",
    "def regression(z,yi):\n",
    "    '''\n",
    "    Multiple regression\n",
    "    '''\n",
    "    reg = np.dot(np.linalg.inv(np.dot(z.T,z)), z.T)\n",
    "    betas = np.dot(reg,yi)\n",
    "    \n",
    "    errors = yi - np.dot(z,betas)\n",
    "    sqres = np.dot(errors.T, errors)\n",
    "    ssq = np.dot(yi.T,yi)    \n",
    "    \n",
    "    return betas, sqres, ssq\n",
    "\n",
    "\n",
    "def prediction(betas, z,yi):\n",
    "    predicted = np.dot(z,betas)\n",
    "    errors = yi - predicted\n",
    "    \n",
    "    return predicted, errors\n",
    "\n",
    "def sigma(yi,z, betas):\n",
    "    '''\n",
    "    Calculates the hat(SIGMA) matrix, biased covariance matrix of the errors\n",
    "    '''\n",
    "    n = len(yi)\n",
    "    a = yi - np.dot(z,betas)\n",
    "    sigma = 1/n*np.dot(a.T,a)\n",
    "    return sigma\n",
    "    "
   ]
  },
  {
   "cell_type": "code",
   "execution_count": 10,
   "id": "777dc57b",
   "metadata": {},
   "outputs": [
    {
     "name": "stdout",
     "output_type": "stream",
     "text": [
      "Y1 \n",
      "Intercept    332.110983\n",
      "X1            -1.545961\n",
      "X2            -1.424559\n",
      "X3            -2.237366\n",
      "dtype: float64 \n",
      "Y2 \n",
      "Intercept   -26.035264\n",
      "X1            0.404551\n",
      "X2            0.292990\n",
      "X3            1.033800\n",
      "dtype: float64 \n",
      "Y3 \n",
      "Intercept   -164.078941\n",
      "X1             0.913925\n",
      "X2             0.899473\n",
      "X3             1.153485\n",
      "dtype: float64\n"
     ]
    }
   ],
   "source": [
    "m1 = smf.ols('Y1 ~ X1 + X2 + X3', data=df).fit()\n",
    "m2 = smf.ols('Y2 ~ X1 + X2 + X3', data=df).fit()\n",
    "m3 = smf.ols('Y3 ~ X1 + X2 + X3', data=df).fit()\n",
    "print(f'Y1 \\n{m1.params} \\nY2 \\n{m2.params} \\nY3 \\n{m3.params}')"
   ]
  },
  {
   "cell_type": "markdown",
   "id": "e915c197",
   "metadata": {},
   "source": [
    "Assim, os modelos gerados são dados por:\n",
    "\n",
    "$$\n",
    "Y_1 = 332.110 -1.545 X_1 - 1.424X_2 - 2.237 X_3 \\\\\n",
    "Y_2 = -26.035 + 0.404 X_1 + 0.292 X_2 + 1.033 X_3 \\\\\n",
    "Y_3 = -164.078 + 0.913 X_1 + 0.899 X_2 + 1.153 X_3 \\\\\n",
    "$$\n"
   ]
  },
  {
   "cell_type": "markdown",
   "id": "387ee17b",
   "metadata": {},
   "source": [
    "em que cada coeficiente representa o impacto da mudança de uma unidade da covariável a qual ele está associado, a variável resposta."
   ]
  },
  {
   "cell_type": "markdown",
   "id": "ac3264b4",
   "metadata": {},
   "source": [
    "## b) Suposições do modelo"
   ]
  },
  {
   "cell_type": "code",
   "execution_count": 11,
   "id": "fb828a38",
   "metadata": {},
   "outputs": [
    {
     "data": {
      "image/png": "[encoded data removed]",
      "text/plain": [
       "<Figure size 432x288 with 3 Axes>"
      ]
     },
     "metadata": {
      "needs_background": "light"
     },
     "output_type": "display_data"
    },
    {
     "data": {
      "image/png": "[encoded data removed]",
      "text/plain": [
       "<Figure size 432x288 with 1 Axes>"
      ]
     },
     "metadata": {
      "needs_background": "light"
     },
     "output_type": "display_data"
    },
    {
     "data": {
      "image/png": "[encoded data removed]",
      "text/plain": [
       "<Figure size 432x288 with 3 Axes>"
      ]
     },
     "metadata": {
      "needs_background": "light"
     },
     "output_type": "display_data"
    },
    {
     "data": {
      "image/png": "[encoded data removed]",
      "text/plain": [
       "<Figure size 432x288 with 1 Axes>"
      ]
     },
     "metadata": {
      "needs_background": "light"
     },
     "output_type": "display_data"
    },
    {
     "data": {
      "image/png": "[encoded data removed]",
      "text/plain": [
       "<Figure size 432x288 with 3 Axes>"
      ]
     },
     "metadata": {
      "needs_background": "light"
     },
     "output_type": "display_data"
    },
    {
     "data": {
      "image/png": "[encoded data removed]",
      "text/plain": [
       "<Figure size 432x288 with 1 Axes>"
      ]
     },
     "metadata": {
      "needs_background": "light"
     },
     "output_type": "display_data"
    }
   ],
   "source": [
    "def student_residuals(results, df_treated, dependent):\n",
    "    x = df_treated[['X1', 'X2','X3']].to_numpy()\n",
    "\n",
    "    \n",
    "    errors = df_treated[dependent].to_numpy() - results.predict()\n",
    "    hat = np.dot(np.dot(x,np.linalg.inv(np.dot(x.T, x))),x.T)\n",
    "    hat_diag = hat.diagonal()\n",
    "    student = []\n",
    "    s1 = round(sc.stats.shapiro(results.resid)[1],3)\n",
    "    bp = round(sms.het_breuschpagan(results.resid, results.model.exog)[1],3)\n",
    "    for i in range(0,len(hat_diag)):\n",
    "        e = errors[i]/np.sqrt(errors.var(ddof = 1)*(1-hat_diag[i]))\n",
    "        student.append(e)\n",
    "    \n",
    "    fig, axs = plt.subplots(ncols=3, sharey = True)\n",
    "    fig.text(0.45, 1, f'Modelo {dependent}', va='center', rotation='horizontal')\n",
    "    fig.text(0.04, 0.5, 'Resíduos Studentizados', va='center', rotation='vertical')\n",
    "    a = sns.scatterplot(x = df_treated['X1'], y = student, ax = axs[0])\n",
    "    b = sns.scatterplot(x = df_treated['X2'], y = student, ax = axs[1], color = 'orange')\n",
    "    c = sns.scatterplot(x = df_treated['X3'], y = student, ax = axs[2], color = 'red')\n",
    "    fig.text(0.35, -0.003, f'Breusch-Pagan p-valor: {bp}', va='center', rotation='horizontal')\n",
    "    fig.text(0.35, -0.1, f'Shapiro Wilk p-valor: {s1}', va='center', rotation='horizontal')\n",
    "\n",
    "\n",
    "    a.axhline(0, color = 'black')\n",
    "    b.axhline(0, color = 'black')\n",
    "    c.axhline(0, color = 'black')\n",
    "    qqplot = sm.qqplot(np.array(student), fit=True, line=\"45\")\n",
    "\n",
    "    \n",
    "    \n",
    "    \n",
    "dep = {'Y1': m1, 'Y2': m2, 'Y3': m3}\n",
    "for i in dep.keys():\n",
    "    student_residuals(dep[i], df, i)"
   ]
  },
  {
   "cell_type": "markdown",
   "id": "cc3694cc",
   "metadata": {},
   "source": [
    "Analisando os gráficos de resíduos, não notamos grandes tendência em sua distribuição e nem desvios graves no gráfico de QQPlot em relação a reta afim. Pelo teste de Shapiro Wilk, concluimos que a distribuição desses resíduos pode ser considerada normal e, pelo teste de Breusch-Pagan, que sua variância é constante."
   ]
  },
  {
   "cell_type": "markdown",
   "id": "c8558507",
   "metadata": {},
   "source": [
    "## c) Significância da regressão"
   ]
  },
  {
   "cell_type": "markdown",
   "id": "2c23ab82",
   "metadata": {},
   "source": [
    "## COMENTAR significância do teste"
   ]
  },
  {
   "cell_type": "code",
   "execution_count": null,
   "id": "1eef172d",
   "metadata": {},
   "outputs": [],
   "source": [
    "Em seguida, testamos a significância dos coeficientes de regressão"
   ]
  },
  {
   "cell_type": "code",
   "execution_count": 38,
   "id": "813604f7",
   "metadata": {},
   "outputs": [
    {
     "name": "stdout",
     "output_type": "stream",
     "text": [
      "Analysis of Variance Table\n",
      "\n",
      "Model 1: y ~ X1 + X2 + X3\n",
      "Model 2: y ~ 1\n",
      "  Res.Df Df Gen.var.    Wilks approx F num Df den Df    Pr(>F)    \n",
      "1     15      4.6266                                              \n",
      "2     18  3  12.0012 0.033158   10.787      9 31.789 1.884e-07 ***\n",
      "---\n",
      "Signif. codes:  0 '***' 0.001 '**' 0.01 '*' 0.05 '.' 0.1 ' ' 1\n"
     ]
    }
   ],
   "source": [
    "%%R\n",
    "\n",
    "df = read.csv('exp_table.csv', sep = ',', header = TRUE)\n",
    "y = as.matrix(df[,c(\"Y1\",\"Y2\",\"Y3\")])\n",
    "model = lm(y ~ X1 + X2 + X3, data = df)\n",
    "null = lm(y ~ 1, data = df)\n",
    "anova(model, null, test = 'Wilks')"
   ]
  },
  {
   "cell_type": "code",
   "execution_count": 40,
   "id": "3e2f345d",
   "metadata": {},
   "outputs": [
    {
     "name": "stdout",
     "output_type": "stream",
     "text": [
      "Analysis of Variance Table\n",
      "\n",
      "Model 1: y ~ X1 + X2 + X3\n",
      "Model 2: y ~ 1\n",
      "  Res.Df Df Gen.var. Pillai approx F num Df den Df  Pr(>F)  \n",
      "1     15      4.6266                                        \n",
      "2     18  3  12.0012 1.0579   2.7235      9     45 0.01263 *\n",
      "---\n",
      "Signif. codes:  0 '***' 0.001 '**' 0.01 '*' 0.05 '.' 0.1 ' ' 1\n"
     ]
    }
   ],
   "source": [
    "%%R\n",
    "anova(model, null, test = 'Pillai')"
   ]
  },
  {
   "cell_type": "code",
   "execution_count": 41,
   "id": "cf16d095",
   "metadata": {},
   "outputs": [
    {
     "name": "stdout",
     "output_type": "stream",
     "text": [
      "Analysis of Variance Table\n",
      "\n",
      "Model 1: y ~ X1 + X2 + X3\n",
      "Model 2: y ~ 1\n",
      "  Res.Df Df Gen.var. Hotelling-Lawley approx F num Df den Df    Pr(>F)    \n",
      "1     15      4.6266                                                      \n",
      "2     18  3  12.0012           26.422   34.251      9     35 9.136e-15 ***\n",
      "---\n",
      "Signif. codes:  0 '***' 0.001 '**' 0.01 '*' 0.05 '.' 0.1 ' ' 1\n"
     ]
    }
   ],
   "source": [
    "%%R\n",
    "anova(model, null, test = 'Hotelling-Lawley')"
   ]
  },
  {
   "cell_type": "code",
   "execution_count": 42,
   "id": "29df804a",
   "metadata": {},
   "outputs": [
    {
     "name": "stdout",
     "output_type": "stream",
     "text": [
      "Analysis of Variance Table\n",
      "\n",
      "Model 1: y ~ X1 + X2 + X3\n",
      "Model 2: y ~ 1\n",
      "  Res.Df Df Gen.var.    Roy approx F num Df den Df    Pr(>F)    \n",
      "1     15      4.6266                                            \n",
      "2     18  3  12.0012 26.318   131.59      3     15 5.373e-11 ***\n",
      "---\n",
      "Signif. codes:  0 '***' 0.001 '**' 0.01 '*' 0.05 '.' 0.1 ' ' 1\n"
     ]
    }
   ],
   "source": [
    "%%R\n",
    "anova(model, null, test = 'Roy')"
   ]
  },
  {
   "cell_type": "code",
   "execution_count": 12,
   "id": "25c8fe59",
   "metadata": {},
   "outputs": [
    {
     "data": {
      "text/plain": [
       "(6.050784468049435e-08, 16.918977604620448, 9, 0.9633945670791564)"
      ]
     },
     "execution_count": 12,
     "metadata": {},
     "output_type": "execute_result"
    }
   ],
   "source": [
    "# model with all the regressor variables\n",
    "betas, sqres, ssq = regression(z,yi)\n",
    "sig = sigma(yi,z,betas)\n",
    "\n",
    "\n",
    "# null model\n",
    "z_null = np.reshape(z[:,0], (19,1))\n",
    "betas_null, sqres_null, ssq_null = regression(z_null,yi)\n",
    "sig_null = sigma(yi,z_null, betas_null)\n",
    "\n",
    "\n",
    "\n",
    "# r - quantidade de covariáveis menos intercepto\n",
    "#n - len(z) observações das varia´veis independentes\n",
    "#m qtde de modelos fitados, i.e variáveis resposta\n",
    "# y(nxm)\n",
    "# q indice da ultima covariavel incluida, 0 neste caso\n",
    "\n",
    "#\n",
    "def tests(sig, sig_null, z, yi, alpha = 0.05):\n",
    "    m =  yi.shape[1]\n",
    "    n = yi.shape[0]\n",
    "    r = 3\n",
    "    q = 0\n",
    "    E = n*sig\n",
    "    H = n*(sig_null - sig)\n",
    "    \n",
    "    v = n-r-1- (1/2)*(m-r+q+1)\n",
    "    wilks_stat = np.linalg.det(E)/np.linalg.det(E+H)\n",
    "    wilks = -v*np.log(wilks_stat)\n",
    "    dfree = m*(r-q)\n",
    "    chi = chi2.ppf(0.95,dfree)\n",
    "    valuep_wilks = chi2.pdf(wilks, dfree)\n",
    "    \n",
    "    \n",
    "    pillai = np.trace(np.dot(H, np.linalg.inv(H+E)))\n",
    "    hotelling = np.trace(np.dot(H, np.linalg.inv(E)))\n",
    "    \n",
    "    greatest_root = max(np.linalg.eig(np.dot(H, np.linalg.inv(E)))[0])\n",
    "    roys = greatest_root/(1+greatest_root)\n",
    "    \n",
    "    return valuep_wilks, chi, dfree, roys\n",
    "\n",
    "tests(sig,sig_null,z,yi, 19)"
   ]
  },
  {
   "cell_type": "markdown",
   "id": "78cd01a7",
   "metadata": {},
   "source": [
    "# Lista 5 - Questão 2"
   ]
  },
  {
   "cell_type": "markdown",
   "id": "18436e57",
   "metadata": {},
   "source": [
    "Inicialmente, fazemos uma análise exploratória resumida dos dados."
   ]
  },
  {
   "cell_type": "code",
   "execution_count": 18,
   "id": "2aaeab3f",
   "metadata": {
    "scrolled": true
   },
   "outputs": [
    {
     "data": {
      "image/png": "[encoded data removed]"
     },
     "metadata": {},
     "output_type": "display_data"
    }
   ],
   "source": [
    "%%R \n",
    "\n",
    "df_flower = read.table('iris.csv', sep = ',', header = TRUE)\n",
    "pca_df = df_flower[,c('sepal.length', 'sepal.width', 'petal.length', 'petal.width')]\n",
    "\n",
    "pairs(pca_df)"
   ]
  },
  {
   "cell_type": "markdown",
   "id": "62abb725",
   "metadata": {},
   "source": [
    "Percebe-se que todas as variáveis parecem ter uma correlação significativa entre si. "
   ]
  },
  {
   "cell_type": "code",
   "execution_count": 19,
   "id": "1b432c8f",
   "metadata": {
    "scrolled": true
   },
   "outputs": [
    {
     "data": {
      "image/png": "[encoded data removed]"
     },
     "metadata": {},
     "output_type": "display_data"
    }
   ],
   "source": [
    "%%R\n",
    "boxplot(pca_df)"
   ]
  },
  {
   "cell_type": "markdown",
   "id": "8eff697e",
   "metadata": {},
   "source": [
    "Podemos perceber uma discrepância entre as variâncias, o que nos leva a padronizar as variáveis ao realizar a análise de componentes principais."
   ]
  },
  {
   "cell_type": "code",
   "execution_count": 20,
   "id": "b0451dbd",
   "metadata": {
    "scrolled": false
   },
   "outputs": [
    {
     "name": "stdout",
     "output_type": "stream",
     "text": [
      "Importance of components:\n",
      "                          PC1    PC2     PC3     PC4\n",
      "Standard deviation     1.7084 0.9560 0.38309 0.14393\n",
      "Proportion of Variance 0.7296 0.2285 0.03669 0.00518\n",
      "Cumulative Proportion  0.7296 0.9581 0.99482 1.00000\n"
     ]
    }
   ],
   "source": [
    "%%R\n",
    "flowers_pca = prcomp(pca_df, center = TRUE,scale. = TRUE)\n",
    "summary(flowers_pca)"
   ]
  },
  {
   "cell_type": "markdown",
   "id": "f1049c7c",
   "metadata": {},
   "source": [
    "Olhando para a proporção de variância explicada, notamos que PC1 e PC2, somadas, explicam aproximadamente 95% da variância do conjunto de dados, logo usaremos apenas essas duas componentes. Em seguida, adquirimos os pesos de cada componente."
   ]
  },
  {
   "cell_type": "code",
   "execution_count": 21,
   "id": "6e1cf9b7",
   "metadata": {},
   "outputs": [
    {
     "name": "stdout",
     "output_type": "stream",
     "text": [
      "                    PC1         PC2\n",
      "sepal.length  0.5210659 -0.37741762\n",
      "sepal.width  -0.2693474 -0.92329566\n",
      "petal.length  0.5804131 -0.02449161\n",
      "petal.width   0.5648565 -0.06694199\n"
     ]
    }
   ],
   "source": [
    "%%R\n",
    "flowers_pca$rotation[, c(1,2)]"
   ]
  },
  {
   "cell_type": "markdown",
   "id": "2f856662",
   "metadata": {},
   "source": [
    "Podemos argumentar que PC1 representa a soma igualmente ponderada do comprimento da sépala e da largura e comprimento da pétala, em contraste com a largura da sépala, podemos chamá-la de componente do tamanho da flor. Já a PC2, oferece mais pesos para as variáveis referentes à sepála, logo podemos interpretá-la como componente do tamanho corpo da flor. "
   ]
  },
  {
   "cell_type": "code",
   "execution_count": 78,
   "id": "0333a521",
   "metadata": {},
   "outputs": [
    {
     "data": {
      "text/plain": [
       "Text(0, 0.5, 'PC2')"
      ]
     },
     "execution_count": 78,
     "metadata": {},
     "output_type": "execute_result"
    },
    {
     "data": {
      "image/png": "[encoded data removed]",
      "text/plain": [
       "<Figure size 432x288 with 1 Axes>"
      ]
     },
     "metadata": {
      "needs_background": "light"
     },
     "output_type": "display_data"
    }
   ],
   "source": [
    "comp = %R -o rvar rvar =flowers_pca$rotation[, c(1,2)]\n",
    "pca_df = pd.read_csv('iris.csv', sep = ',')\n",
    "escore = np.dot(pca_df.iloc[:,0:4].to_numpy(), comp)\n",
    "data_aux = [escore[:,0].T, escore[:,1].T, pca_df['variety'].to_numpy().T]\n",
    "df_plot = pd.DataFrame(data_aux, index = ['PC1', 'PC2', 'Variety']).T\n",
    "sns.scatterplot(x = 'PC1', y ='PC2', color = 'teal', data = df_plot, hue = 'Variety')\n",
    "plt.title('Escore')\n",
    "plt.xlabel('PC1')\n",
    "plt.ylabel('PC2')"
   ]
  },
  {
   "cell_type": "markdown",
   "id": "84d4a36b",
   "metadata": {},
   "source": [
    "Podemos ver que o plot das componentes PC1 PC2 distingue claramente a variedade Setosa das outras."
   ]
  },
  {
   "cell_type": "markdown",
   "id": "f1deb60e",
   "metadata": {},
   "source": [
    "# Lista 5 - Questão 1"
   ]
  },
  {
   "cell_type": "code",
   "execution_count": 53,
   "id": "da9a203a",
   "metadata": {
    "scrolled": true
   },
   "outputs": [
    {
     "data": {
      "image/png": "[encoded data removed]"
     },
     "metadata": {},
     "output_type": "display_data"
    }
   ],
   "source": [
    "%%R \n",
    "\n",
    "data_protein = read.table('protein.csv', sep = ',', header = TRUE)\n",
    "data_drop = data_protein[,c(2:10)]\n",
    "#pca_df = df_flower[,c('sepal.length', 'sepal.width', 'petal.length', 'petal.width')]\n",
    "boxplot(data_drop)"
   ]
  },
  {
   "cell_type": "code",
   "execution_count": 54,
   "id": "e20b65fa",
   "metadata": {},
   "outputs": [
    {
     "name": "stdout",
     "output_type": "stream",
     "text": [
      "Importance of components:\n",
      "                          PC1    PC2    PC3    PC4     PC5     PC6     PC7\n",
      "Standard deviation     2.0237 1.2747 1.0418 0.9513 0.65325 0.58902 0.51916\n",
      "Proportion of Variance 0.4551 0.1805 0.1206 0.1006 0.04742 0.03855 0.02995\n",
      "Cumulative Proportion  0.4551 0.6356 0.7562 0.8568 0.90417 0.94272 0.97266\n",
      "                           PC8     PC9\n",
      "Standard deviation     0.36677 0.33391\n",
      "Proportion of Variance 0.01495 0.01239\n",
      "Cumulative Proportion  0.98761 1.00000\n"
     ]
    }
   ],
   "source": [
    "%%R\n",
    "protein_pca = prcomp(data_drop, center = TRUE,scale. = TRUE)\n",
    "summary(protein_pca)"
   ]
  },
  {
   "cell_type": "markdown",
   "id": "5cf65d11",
   "metadata": {},
   "source": [
    "# Questão 11.1"
   ]
  },
  {
   "cell_type": "markdown",
   "id": "59e66ae9",
   "metadata": {},
   "source": [
    "a) Calculando a matriz $\\hat{a} = (\\bar{x_1} - \\bar{x_2})S_{pool}^{-1}$"
   ]
  },
  {
   "cell_type": "code",
   "execution_count": 47,
   "id": "cfbfaeb4",
   "metadata": {},
   "outputs": [
    {
     "name": "stdout",
     "output_type": "stream",
     "text": [
      "Matriz a :  [[-0.25806452 -0.30107527]]\n"
     ]
    }
   ],
   "source": [
    "\n",
    "x1 = np.array([[3,2,4], [7,4,7]])\n",
    "x2 = np.array([[3,5,4], [9,7,8]])\n",
    "x1_mean = np.array([[3,6]])\n",
    "x2_mean = np.array([[4,8]])\n",
    "n1 = len(x1)\n",
    "n2 = len(x2)\n",
    "\n",
    "spool = (n1-1/(n1+n2 -2))*np.cov(x1) + (n2-1/(n1+n2 -2))*np.cov(x2) \n",
    "\n",
    "#w = (len(x1) + len(x2))* spool\n",
    "\n",
    "a = np.dot((x1_mean-x2_mean), np.linalg.inv(spool))\n",
    "print('Matriz a : ', a)\n",
    "\n",
    "\n"
   ]
  },
  {
   "cell_type": "markdown",
   "id": "a9f74aa4",
   "metadata": {},
   "source": [
    "b) Classificando obsevação $x_0$ com prioris e pesos iguais."
   ]
  },
  {
   "cell_type": "code",
   "execution_count": 35,
   "id": "ccf7092c",
   "metadata": {},
   "outputs": [
    {
     "name": "stdout",
     "output_type": "stream",
     "text": [
      "Valor de y_1:  [[-2.62365591]]\n"
     ]
    }
   ],
   "source": [
    "xo = np.array([[2,7]])\n",
    "y1 = np.dot(a, xo.T)\n",
    "print('Valor de y_1: ', y1)"
   ]
  },
  {
   "cell_type": "markdown",
   "id": "c9ef1585",
   "metadata": {},
   "source": [
    "Assim, como -2.62 é menor do que 0, o valor de referência, a observação $x_0$ é classificada como pertencente ao grupo 2, ou seja, ao grupo $x_2$."
   ]
  },
  {
   "cell_type": "markdown",
   "id": "495755f8",
   "metadata": {},
   "source": [
    "# Questão 11.10"
   ]
  },
  {
   "cell_type": "markdown",
   "id": "ceb542a3",
   "metadata": {},
   "source": [
    "Aplicando o teste $T^2$ de Hotelling, queremos testar:\n",
    "\n",
    "$$\n",
    "H_0 : \\mu_1 = \\mu_2 \\quad  \\:H_1: \\mu_1 \\neq \\mu_2\n",
    "$$\n",
    "\n",
    "$$\n",
    "T^2 = (\\bar{x_1}-\\bar{x_2})^T [(\\frac{1}{n_1} + \\frac{1}{n_2})S_{pooled}]^{-1}(\\bar{x_1}-\\bar{x_2})\n",
    "$$\n",
    "\n",
    "$$\n",
    "T^2 \\sim \\frac{(n_1+n_2 -2)p}{(n_1+n_2 -p-1)}F_{p, n_1+n_2-p-1}\n",
    "$$\n",
    "\n"
   ]
  },
  {
   "cell_type": "code",
   "execution_count": 37,
   "id": "4c1db4f1",
   "metadata": {},
   "outputs": [
    {
     "name": "stdout",
     "output_type": "stream",
     "text": [
      "Estatística de Teste: 14.5217 e quantil : 5.4374\n",
      "p-valor: 0.0003\n"
     ]
    }
   ],
   "source": [
    "from scipy.stats import f\n",
    "x1 = np.array([[-1,-1]])\n",
    "x2 = np.array([[2,1]])\n",
    "\n",
    "spool = np.array([[7.3, -1.1],\n",
    "                [-1.1,4.8]])\n",
    "\n",
    "n1 = 11\n",
    "n2 = 12\n",
    "\n",
    "t2 = np.dot(np.dot((x1-x2),np.linalg.inv((1/n1+1/n2)*spool)), (x1-x2).T)\n",
    "t = ((n1+n2-2)*2)/(n1+n2-3)*f.ppf(0.9,2, n1+n2-3)\n",
    "pvalor = 2*(1-f.cdf(t2,2, n1+n2-3))\n",
    "print(f'Estatística de Teste: {round(t2[0][0],4)} e quantil : {round(t,4)}')\n",
    "print(f'p-valor: {round(pvalor[0][0],4)}')"
   ]
  },
  {
   "cell_type": "markdown",
   "id": "b64d0e2a",
   "metadata": {},
   "source": [
    "Logo rejeitamos $H_0$ e há diferença entre as médias"
   ]
  },
  {
   "cell_type": "markdown",
   "id": "6c3df8ed",
   "metadata": {},
   "source": [
    "Se $\\hat{a} = (\\bar{x_1}- \\bar{x_2})^TS_{pooled}^{-1}(\\bar{x_1} + \\bar{x_2})$, então alocamos uma observação $x_0$ em $\\pi_0$ se:\n",
    "\n",
    "\n",
    "$$\n",
    "\\hat{y} = \\hat{a}x_0 \\geq \\frac{1}{2}(\\bar{x_1}- \\bar{x_2})S_{pooled}^{-1}(\\bar{x_1}+ \\bar{x_2}) = \\hat{m}\n",
    "$$\n",
    "\n",
    "e alocamos $\\pi_1$ caso contrário."
   ]
  },
  {
   "cell_type": "code",
   "execution_count": 46,
   "id": "189affc2",
   "metadata": {
    "scrolled": true
   },
   "outputs": [
    {
     "name": "stdout",
     "output_type": "stream",
     "text": [
      "Matriz a :  [[-0.49068874 -0.52911617]]\n",
      "Matrix m :  -0.24534436890334027\n"
     ]
    }
   ],
   "source": [
    "a = np.dot((x1-x2), np.linalg.inv(spool))\n",
    "m = 1/2*np.dot(a,(x1+x2).T)\n",
    "\n",
    "print('Matriz a : ', a)\n",
    "print('m: ', m[0][0] )"
   ]
  },
  {
   "cell_type": "code",
   "execution_count": 59,
   "id": "91021bd8",
   "metadata": {},
   "outputs": [
    {
     "name": "stdout",
     "output_type": "stream",
     "text": [
      "Valor de y : -0.5291\n"
     ]
    }
   ],
   "source": [
    "x0 = np.array([[0,1]]).T\n",
    "y = np.dot(a, x0)\n",
    "print(f'Valor de y : {round(y[0][0],4)}')\n"
   ]
  },
  {
   "cell_type": "markdown",
   "id": "3a9a71b5",
   "metadata": {},
   "source": [
    "Como o valor de y é menor do que $\\hat{m} = -0.2453$, alocamos $x_0$ no grupo $\\pi_2$"
   ]
  },
  {
   "cell_type": "markdown",
   "id": "70eab4f9",
   "metadata": {},
   "source": [
    "# Exerício 11.24"
   ]
  },
  {
   "cell_type": "code",
   "execution_count": 2,
   "id": "aa412fe0",
   "metadata": {},
   "outputs": [],
   "source": [
    "\n",
    "df = pd.read_csv('tab_11.dat', sep = '\\s+', header = None)\n",
    "df.columns = ['x1', 'x2', 'x3', 'x4', 'groups']\n"
   ]
  },
  {
   "cell_type": "code",
   "execution_count": 3,
   "id": "fd1ecc39",
   "metadata": {
    "scrolled": false
   },
   "outputs": [
    {
     "data": {
      "text/plain": [
       "<AxesSubplot:xlabel='X1', ylabel='X4'>"
      ]
     },
     "execution_count": 3,
     "metadata": {},
     "output_type": "execute_result"
    },
    {
     "data": {
      "image/png": "[encoded data removed]",
      "text/plain": [
       "<Figure size 864x360 with 3 Axes>"
      ]
     },
     "metadata": {
      "needs_background": "light"
     },
     "output_type": "display_data"
    }
   ],
   "source": [
    "fig, axs = plt.subplots(ncols=3, figsize = (12,5))\n",
    "\n",
    "axs[0].set_ylabel('X2')\n",
    "axs[0].set_xlabel('X1')\n",
    "axs[1].set_ylabel('X3')\n",
    "axs[1].set_xlabel('X1')\n",
    "axs[2].set_ylabel('X4')\n",
    "axs[2].set_xlabel('X1')\n",
    "\n",
    "fig.tight_layout(pad=3.0)\n",
    "sns.scatterplot(x = 'x1', y= 'x2', ax = axs[0], data = df, color = 'teal', marker = '+')\n",
    "sns.scatterplot(x = 'x1', y = 'x3', ax = axs[1], data = df, color = 'blue', marker = '*')\n",
    "sns.scatterplot(x = 'x1', y = 'x4', ax = axs[2], data = df, color = 'darkblue', marker = '.')"
   ]
  },
  {
   "cell_type": "markdown",
   "id": "328a1f1e",
   "metadata": {},
   "source": [
    "## b) Média e variância amostral"
   ]
  },
  {
   "cell_type": "code",
   "execution_count": 4,
   "id": "2bd0ce6f",
   "metadata": {
    "scrolled": true
   },
   "outputs": [
    {
     "name": "stdout",
     "output_type": "stream",
     "text": [
      "Média X1 [[-0.06904762 -0.08142857]]\n",
      "Média X2 [[0.2352 0.0556]]\n",
      "Covar X1 [[0.04412905 0.02847643]\n",
      " [0.02847643 0.02100286]]\n",
      "Covar X2 [[0.047051   0.00850717]\n",
      " [0.00850717 0.00237567]]\n"
     ]
    }
   ],
   "source": [
    "x1 = df.loc[df['groups'] == 0, ['x1', 'x2']]\n",
    "x2 = df.loc[df['groups'] == 1, ['x1', 'x2']]\n",
    "\n",
    "mx1 = x1.mean().to_numpy().reshape((1,2))\n",
    "mx2 = x2.mean().to_numpy().reshape((1,2))\n",
    "var1 = x1.cov().to_numpy()\n",
    "var2 = x2.cov().to_numpy()\n",
    "print('Média X1', mx1)\n",
    "print('Média X2', mx2)\n",
    "print('Covar X1', var1)\n",
    "print('Covar X2', var2)"
   ]
  },
  {
   "cell_type": "markdown",
   "id": "92b88315",
   "metadata": {},
   "source": [
    "## c) Regra de Classificação"
   ]
  },
  {
   "cell_type": "markdown",
   "id": "be9aedf1",
   "metadata": {},
   "source": [
    "Utilizando a regra de classificação quadrática e as restrições em relação as prioris e ao erro, temos que:"
   ]
  },
  {
   "cell_type": "markdown",
   "id": "14cfd2bb",
   "metadata": {},
   "source": [
    "$$\n",
    "-\\frac{1}{2}x_0^Tax_0 + bx_0 - k \\geq 0\n",
    "$$\n",
    "\n",
    "onde $a = (S_1^{-1} - S_2^{-1})$ e b $b = (x_1^TS_1^{-1} - x_2^TS_2^{-1})$"
   ]
  },
  {
   "cell_type": "code",
   "execution_count": 5,
   "id": "d6add72c",
   "metadata": {
    "scrolled": true
   },
   "outputs": [
    {
     "name": "stdout",
     "output_type": "stream",
     "text": [
      "Matriz a: \n",
      "[[ 120.8823196   -29.74938113]\n",
      " [ -29.74938113 -813.36239017]]\n",
      "Matriz b: \n",
      "[[  5.31619235 -29.64633318]]\n",
      "Valor de k:  \n",
      "0.1624\n"
     ]
    }
   ],
   "source": [
    "mx1 = x1.mean().to_numpy().reshape((1,2))\n",
    "mx2 = x2.mean().to_numpy().reshape((1,2))\n",
    "var1 = x1.cov().to_numpy()\n",
    "var2 = x2.cov().to_numpy()\n",
    "lx1 = len(x1)\n",
    "lx2 = len(x2)\n",
    "\n",
    "det1 = np.linalg.det(var1)\n",
    "det2 = np.linalg.det(var2)\n",
    "inv1 = np.linalg.inv(var1)\n",
    "inv2 = np.linalg.inv(var2)\n",
    "\n",
    "a = inv1-inv2\n",
    "b = np.dot(mx1,inv1)-np.dot(mx2,inv2)\n",
    "k = 1/2*(np.log(det1/det2) + np.dot(np.dot(mx1, inv1 ), mx1.T) - np.dot(np.dot(mx2, inv2 ), mx2.T))\n",
    "print('Matriz a: ')\n",
    "print(a)\n",
    "print('Matriz b: ')\n",
    "print(b)\n",
    "print('Valor de k:  ')\n",
    "print(round(k[0][0],4))"
   ]
  },
  {
   "cell_type": "markdown",
   "id": "c4ae80f9",
   "metadata": {},
   "source": [
    "## d) Análise da Qualidade de Classificação"
   ]
  },
  {
   "cell_type": "code",
   "execution_count": 6,
   "id": "8c810ef7",
   "metadata": {
    "scrolled": false
   },
   "outputs": [
    {
     "data": {
      "text/plain": [
       "<AxesSubplot:>"
      ]
     },
     "execution_count": 6,
     "metadata": {},
     "output_type": "execute_result"
    },
    {
     "data": {
      "image/png": "[encoded data removed]",
      "text/plain": [
       "<Figure size 432x288 with 2 Axes>"
      ]
     },
     "metadata": {
      "needs_background": "light"
     },
     "output_type": "display_data"
    }
   ],
   "source": [
    "from sklearn.metrics import confusion_matrix\n",
    "y_true = df['groups']\n",
    "\n",
    "df1 = df.drop(['groups'], axis = 1)\n",
    "df1 = df1.drop(['x3', 'x4'], axis = 1)\n",
    "df1 = df1.to_numpy()\n",
    "res = []\n",
    "for i in range(len(df1)):  \n",
    "    call = -1/2*np.dot(np.dot(df1[i],a), df1[i].T) + np.dot(b, df1[i].T)\n",
    "    c = call[0]\n",
    "    if c >= k:\n",
    "        res.append(0)\n",
    "    \n",
    "    else:\n",
    "        res.append(1)\n",
    "    \n",
    "cf_matrix = confusion_matrix(y_true, res)\n",
    "sns.heatmap(cf_matrix, annot=True)"
   ]
  },
  {
   "cell_type": "markdown",
   "id": "bd8fd193",
   "metadata": {},
   "source": [
    "Assim, o APER é dado por:\n",
    "    \n",
    "$$\n",
    "APER = \\frac{9}{46} = 0.1956\n",
    "$$"
   ]
  },
  {
   "cell_type": "markdown",
   "id": "9f18e68a",
   "metadata": {},
   "source": [
    "## e) Métricas de Avaliação"
   ]
  },
  {
   "cell_type": "code",
   "execution_count": 7,
   "id": "1ace265c",
   "metadata": {},
   "outputs": [],
   "source": [
    "def discriminant(x1,x2, df):\n",
    "    lx1 = len(x1)\n",
    "    lx2 = len(x2)\n",
    "    mx1 = x1.mean().to_numpy().reshape((1,x1.shape[1]))\n",
    "    mx2 = x2.mean().to_numpy().reshape((1,x2.shape[1]))\n",
    "    var1 = x1.cov().to_numpy()\n",
    "    var2 = x2.cov().to_numpy()\n",
    "    \n",
    "\n",
    "\n",
    "    det1 = np.linalg.det(var1)\n",
    "    det2 = np.linalg.det(var2)\n",
    "    inv1 = np.linalg.inv(var1)\n",
    "    inv2 = np.linalg.inv(var2)\n",
    "\n",
    "    a = inv1-inv2\n",
    "    b = np.dot(mx1,inv1)-np.dot(mx2,inv2)\n",
    "    k = 1/2*(np.log(det1/det2) + np.dot(np.dot(mx1, inv1 ), mx1.T) - np.dot(np.dot(mx2, inv2 ), mx2.T))\n",
    "    \n",
    "    return a,b,k\n",
    "\n",
    "\n",
    "def predict(a,b,k, xo, priors = (1,1)):\n",
    "    \n",
    "    call = -1/2*np.dot(np.dot(xo,a), xo.T) + np.dot(b, xo.T)\n",
    "    c = call[0]\n",
    "    \n",
    "    if c >= k + np.log(priors[1]/priors[0]):\n",
    "        classif = 0\n",
    "    \n",
    "    else:\n",
    "        classif = 1\n",
    "    \n",
    "    return classif\n",
    "\n",
    "\n",
    "def confusion(a,b,k, df,  priors = (1,1), confusion = False ):\n",
    "    \n",
    "    y_true = df['groups']\n",
    "\n",
    "    df1 = df.drop(['groups'], axis = 1)\n",
    "    df1 = df1.to_numpy()\n",
    "    res = []\n",
    "    for i in range(len(df1)):  \n",
    "        call = -1/2*np.dot(np.dot(df1[i],a), df1[i].T) + np.dot(b, df1[i].T)\n",
    "        c = call[0]\n",
    "        if c >= k + np.log(priors[1]/priors[0]):\n",
    "            res.append(0)\n",
    "\n",
    "        else:\n",
    "            res.append(1)\n",
    "    \n",
    "    \n",
    "    if confusion == True:\n",
    "        cf_matrix = confusion_matrix(y_true, res)\n",
    "        sns.heatmap(cf_matrix, annot=True)\n",
    "    \n",
    "    return list(y_true == res).count(False)\n",
    "\n",
    "\n"
   ]
  },
  {
   "cell_type": "code",
   "execution_count": 8,
   "id": "4aa0eaea",
   "metadata": {
    "scrolled": true
   },
   "outputs": [
    {
     "name": "stdout",
     "output_type": "stream",
     "text": [
      "AER :  0.2174\n"
     ]
    }
   ],
   "source": [
    "df2 = df[['x1', 'x2', 'groups']]\n",
    "\n",
    "def holdout(x1,x2, df, priors = (1,1)):\n",
    "    miss1 = 0\n",
    "    miss2 = 0\n",
    "    \n",
    "    \n",
    "    for i in range(0,len(x1)):\n",
    "        holdout = df.iloc[i]\n",
    "        xo = holdout.drop(['groups']).to_numpy()\n",
    "        xtest = x1.drop(i, axis = 0)\n",
    "        \n",
    "        a,b,k = discriminant(xtest, x2, df)\n",
    "        prediction = predict(a,b,k, xo, priors = priors)\n",
    "        \n",
    "        if prediction == holdout['groups']:\n",
    "            continue\n",
    "        else:\n",
    "            miss1 += 1\n",
    "    \n",
    "    for i in range(21,21+len(x2)):\n",
    "        holdout = df.iloc[i]\n",
    "        xo = holdout.drop(['groups']).to_numpy()\n",
    "        xtest = x2.drop(i, axis = 0)\n",
    "\n",
    "        a,b,k = discriminant(x1, xtest, df)\n",
    "        prediction = predict(a,b,k, xo, priors = priors)\n",
    "\n",
    "        if prediction == holdout['groups']:\n",
    "\n",
    "            continue\n",
    "\n",
    "        else:\n",
    "            miss2 += 1\n",
    "        \n",
    "\n",
    "    \n",
    "    aer = (miss1+miss2)/(len(x1)+len(x2))\n",
    "        \n",
    "        \n",
    "    return aer\n",
    "\n",
    "aer = round(holdout(x1,x2,df2),4)\n",
    "print('AER : ', aer)"
   ]
  },
  {
   "cell_type": "markdown",
   "id": "fd4bac86",
   "metadata": {},
   "source": [
    "## e) Mudando as probabilidades a priori."
   ]
  },
  {
   "cell_type": "code",
   "execution_count": 9,
   "id": "de5ee4fc",
   "metadata": {},
   "outputs": [
    {
     "name": "stdout",
     "output_type": "stream",
     "text": [
      "AER:  0.2609\n"
     ]
    },
    {
     "data": {
      "image/png": "[encoded data removed]",
      "text/plain": [
       "<Figure size 432x288 with 2 Axes>"
      ]
     },
     "metadata": {
      "needs_background": "light"
     },
     "output_type": "display_data"
    }
   ],
   "source": [
    "\n",
    "a,b,k = discriminant(x1,x2,df2)\n",
    "confusion(a,b,k, df2, priors = (0.05,0.95), confusion = True)\n",
    "aer = round(holdout(x1,x2,df2, priors = (0.05,0.95)),4)\n",
    "print('AER: ', aer)"
   ]
  },
  {
   "cell_type": "markdown",
   "id": "4c9ca563",
   "metadata": {},
   "source": [
    "Assim, o APER é dado por:\n",
    "    \n",
    "$$\n",
    "APER = \\frac{12}{46} = 0.2608\n",
    "$$"
   ]
  },
  {
   "cell_type": "markdown",
   "id": "1d6e8dad",
   "metadata": {},
   "source": [
    "## f) Usando a função discriminante de Fisher"
   ]
  },
  {
   "cell_type": "code",
   "execution_count": 19,
   "id": "aa3399f8",
   "metadata": {},
   "outputs": [
    {
     "name": "stdout",
     "output_type": "stream",
     "text": [
      "Matriz a :  [[-0.10426837 -0.10519175]]\n",
      "m:  -0.007303743038896707\n"
     ]
    }
   ],
   "source": [
    "n1 = len(x1)\n",
    "n2 = len(x2)\n",
    "var1 = x1.cov().to_numpy()\n",
    "var2 = x2.cov().to_numpy()\n",
    "spool = (n1-1/(n1+n2 -2))*var1 + (n2-1/(n1+n2 -2))*var2\n",
    "\n",
    "\n",
    "\n",
    "a = np.dot((mx1-mx2), np.linalg.inv(spool))\n",
    "m = 1/2*np.dot(a,(mx1+mx2).T)\n",
    "\n",
    "print('Matriz a : ', a)\n",
    "print('m: ', m[0][0] )"
   ]
  },
  {
   "cell_type": "markdown",
   "id": "a345b7ef",
   "metadata": {},
   "source": [
    "Logo, a função discriminante de Fisher é dada por:\n",
    "    \n",
    "$$\n",
    "\\hat{y} = -0.104x_1 - 0.105x_2\n",
    "$$\n",
    "\n",
    "e \n",
    "$$\n",
    "\\hat{m} = -0.007\n",
    "$$"
   ]
  },
  {
   "cell_type": "code",
   "execution_count": 27,
   "id": "41112578",
   "metadata": {},
   "outputs": [
    {
     "data": {
      "image/png": "[encoded data removed]",
      "text/plain": [
       "<Figure size 432x288 with 2 Axes>"
      ]
     },
     "metadata": {
      "needs_background": "light"
     },
     "output_type": "display_data"
    }
   ],
   "source": [
    "def fisher_dis(df, a,m,  priors = (1,1), confusion = True):\n",
    "    \n",
    "    y_true = df['groups']\n",
    "\n",
    "    df1 = df.drop(['groups'], axis = 1)\n",
    "    df1 = df1.to_numpy()\n",
    "    res = []\n",
    "    for i in range(len(df1)):  \n",
    "        call = np.dot(a, df1[i])\n",
    "        c = call[0]\n",
    "        if c >= m:\n",
    "            res.append(0)\n",
    "\n",
    "        else:\n",
    "            res.append(1)\n",
    "    \n",
    "    \n",
    "    if confusion == True:\n",
    "        cf_matrix = confusion_matrix(y_true, res)\n",
    "        sns.heatmap(cf_matrix, annot=True)\n",
    "        \n",
    "\n",
    "fisher_dis(df2, a,m)"
   ]
  },
  {
   "cell_type": "markdown",
   "id": "f518ceef",
   "metadata": {},
   "source": [
    "Assim, o APER é dado por:\n",
    "    \n",
    "$$\n",
    "APER = \\frac{9}{46} = 0,1956\n",
    "$$"
   ]
  },
  {
   "cell_type": "markdown",
   "id": "61eb1f2f",
   "metadata": {},
   "source": [
    "Contudo, o uso do discriminante de Fisher não é recomendado, visto que as duas populações tem variâncias diferentes."
   ]
  },
  {
   "cell_type": "markdown",
   "id": "3425bca0",
   "metadata": {},
   "source": [
    "## g) Mudando par de variáveis"
   ]
  },
  {
   "cell_type": "markdown",
   "id": "701f0cb1",
   "metadata": {},
   "source": [
    "### (x1,x3)"
   ]
  },
  {
   "cell_type": "code",
   "execution_count": 320,
   "id": "538d2e6b",
   "metadata": {
    "scrolled": true
   },
   "outputs": [
    {
     "name": "stdout",
     "output_type": "stream",
     "text": [
      "AER:  0.1304\n"
     ]
    },
    {
     "data": {
      "image/png": "[encoded data removed]",
      "text/plain": [
       "<Figure size 432x288 with 2 Axes>"
      ]
     },
     "metadata": {
      "needs_background": "light"
     },
     "output_type": "display_data"
    }
   ],
   "source": [
    "x1 = df.loc[df['groups'] == 0, ['x1', 'x3']]\n",
    "x2 = df.loc[df['groups'] == 1, ['x1', 'x3' ]]\n",
    "df3 = df[['x1', 'x3', 'groups']]\n",
    "\n",
    "a,b,k = discriminant(x1,x2, df3)\n",
    "confusion(a,b,k, df3, priors = (1,1), confusion = True)\n",
    "aer = round(holdout(x1,x2,df3, priors = (1,1)),4)\n",
    "\n",
    "print('AER: ', aer)"
   ]
  },
  {
   "cell_type": "markdown",
   "id": "771c0c48",
   "metadata": {},
   "source": [
    "Assim, o APER é dado por:\n",
    "    \n",
    "$$\n",
    "AER = \\frac{5}{46} = 0.1086\n",
    "$$"
   ]
  },
  {
   "cell_type": "markdown",
   "id": "1d321841",
   "metadata": {},
   "source": [
    "### (x1, x4)"
   ]
  },
  {
   "cell_type": "code",
   "execution_count": 321,
   "id": "fff22f1e",
   "metadata": {
    "scrolled": true
   },
   "outputs": [
    {
     "name": "stdout",
     "output_type": "stream",
     "text": [
      "AER:  0.2174\n"
     ]
    },
    {
     "data": {
      "image/png": "[encoded data removed]",
      "text/plain": [
       "<Figure size 432x288 with 2 Axes>"
      ]
     },
     "metadata": {
      "needs_background": "light"
     },
     "output_type": "display_data"
    }
   ],
   "source": [
    "x1 = df.loc[df['groups'] == 0, ['x1', 'x4']]\n",
    "x2 = df.loc[df['groups'] == 1, ['x1', 'x4' ]]\n",
    "df4 = df[['x1', 'x4', 'groups']]\n",
    "\n",
    "a,b,k = discriminant(x1,x2, df)\n",
    "confusion(a,b,k, df4, priors = (1,1), confusion = True)\n",
    "aer = round(holdout(x1,x2,df4, priors = (1,1)),4)\n",
    "\n",
    "print('AER: ', aer)"
   ]
  },
  {
   "cell_type": "markdown",
   "id": "08739e1d",
   "metadata": {},
   "source": [
    "Assim, o APER é dado por:\n",
    "    \n",
    "$$\n",
    "AER = \\frac{8}{46} = 0.1739\n",
    "$$"
   ]
  },
  {
   "cell_type": "markdown",
   "id": "6039818d",
   "metadata": {},
   "source": [
    "## h) Usando todas as covariáveis"
   ]
  },
  {
   "cell_type": "code",
   "execution_count": 228,
   "id": "4ea8f805",
   "metadata": {},
   "outputs": [],
   "source": [
    "x1 = df.loc[df['groups'] == 0, ['x1', 'x2', 'x3', 'x4' ]]\n",
    "x2 = df.loc[df['groups'] == 1, ['x1', 'x2', 'x3', 'x4' ]]"
   ]
  },
  {
   "cell_type": "code",
   "execution_count": 239,
   "id": "9bf5a230",
   "metadata": {
    "scrolled": false
   },
   "outputs": [
    {
     "data": {
      "text/plain": [
       "3"
      ]
     },
     "execution_count": 239,
     "metadata": {},
     "output_type": "execute_result"
    },
    {
     "data": {
      "image/png": "[encoded data removed]",
      "text/plain": [
       "<Figure size 432x288 with 2 Axes>"
      ]
     },
     "metadata": {
      "needs_background": "light"
     },
     "output_type": "display_data"
    }
   ],
   "source": [
    "def discriminant(x1,x2, df):\n",
    "    lx1 = len(x1)\n",
    "    lx2 = len(x2)\n",
    "    mx1 = x1.mean().to_numpy().reshape((1,x1.shape[1]))\n",
    "    mx2 = x2.mean().to_numpy().reshape((1,x2.shape[1]))\n",
    "    var1 = x1.cov().to_numpy()\n",
    "    var2 = x2.cov().to_numpy()\n",
    "    \n",
    "\n",
    "\n",
    "    det1 = np.linalg.det(var1)\n",
    "    det2 = np.linalg.det(var2)\n",
    "    inv1 = np.linalg.inv(var1)\n",
    "    inv2 = np.linalg.inv(var2)\n",
    "\n",
    "    a = inv1-inv2\n",
    "    b = np.dot(mx1,inv1)-np.dot(mx2,inv2)\n",
    "    k = 1/2*(np.log(det1/det2) + np.dot(np.dot(mx1, inv1 ), mx1.T) - np.dot(np.dot(mx2, inv2 ), mx2.T))\n",
    "    \n",
    "    return a,b,k\n",
    "\n",
    "def confusion(a,b,k, df,  priors = (1,1) ):\n",
    "    \n",
    "    y_true = df['groups']\n",
    "\n",
    "    df1 = df.drop(['groups'], axis = 1)\n",
    "    df1 = df1.to_numpy()\n",
    "    res = []\n",
    "    for i in range(len(df1)):  \n",
    "        call = -1/2*np.dot(np.dot(df1[i],a), df1[i].T) + np.dot(b, df1[i].T)\n",
    "        c = call[0]\n",
    "        if c >= k + np.log(priors[1]/priors[0]):\n",
    "            res.append(0)\n",
    "\n",
    "        else:\n",
    "            res.append(1)\n",
    "    \n",
    "    \n",
    "    \n",
    "    cf_matrix = confusion_matrix(y_true, res)\n",
    "    sns.heatmap(cf_matrix, annot=True)\n",
    "    \n",
    "    return list(y_true == res).count(False)\n",
    "a,b,k = discriminant(x1,x2, df)\n",
    "confusion(a,b,k, df)"
   ]
  },
  {
   "cell_type": "markdown",
   "id": "a44d531b",
   "metadata": {},
   "source": [
    "Assim, o APER é dado por:\n",
    "    \n",
    "$$\n",
    "APER = \\frac{3}{46} = 0.065\n",
    "$$"
   ]
  }
 ],
 "metadata": {
  "kernelspec": {
   "display_name": "Python 3 (ipykernel)",
   "language": "python",
   "name": "python3"
  },
  "language_info": {
   "codemirror_mode": {
    "name": "ipython",
    "version": 3
   },
   "file_extension": ".py",
   "mimetype": "text/x-python",
   "name": "python",
   "nbconvert_exporter": "python",
   "pygments_lexer": "ipython3",
   "version": "3.9.12"
  }
 },
 "nbformat": 4,
 "nbformat_minor": 5
}
