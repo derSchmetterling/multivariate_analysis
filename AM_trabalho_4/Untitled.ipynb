{
 "cells": [
  {
   "cell_type": "code",
   "execution_count": 1,
   "id": "692ba19f",
   "metadata": {},
   "outputs": [],
   "source": [
    "import pandas as pd\n",
    "import numpy as np \n",
    "import statsmodels.api as sm\n",
    "import matplotlib.pyplot as plt\n",
    "import statsmodels.formula.api as smf\n",
    "import statsmodels.stats.api as sms\n",
    "import seaborn as sns\n",
    "from scipy.stats import t\n",
    "import scipy as sc"
   ]
  },
  {
   "cell_type": "markdown",
   "id": "0ce00098",
   "metadata": {},
   "source": [
    "# Questão 1"
   ]
  },
  {
   "cell_type": "markdown",
   "id": "b11fc60d",
   "metadata": {},
   "source": [
    "Lendo a tabela:"
   ]
  },
  {
   "cell_type": "code",
   "execution_count": 2,
   "id": "8299ec0b",
   "metadata": {},
   "outputs": [
    {
     "data": {
      "text/html": [
       "<div>\n",
       "<style scoped>\n",
       "    .dataframe tbody tr th:only-of-type {\n",
       "        vertical-align: middle;\n",
       "    }\n",
       "\n",
       "    .dataframe tbody tr th {\n",
       "        vertical-align: top;\n",
       "    }\n",
       "\n",
       "    .dataframe thead th {\n",
       "        text-align: right;\n",
       "    }\n",
       "</style>\n",
       "<table border=\"1\" class=\"dataframe\">\n",
       "  <thead>\n",
       "    <tr style=\"text-align: right;\">\n",
       "      <th></th>\n",
       "      <th>Produção</th>\n",
       "      <th>Temperatura</th>\n",
       "      <th>Concentração</th>\n",
       "    </tr>\n",
       "  </thead>\n",
       "  <tbody>\n",
       "    <tr>\n",
       "      <th>0</th>\n",
       "      <td>189</td>\n",
       "      <td>80</td>\n",
       "      <td>10</td>\n",
       "    </tr>\n",
       "    <tr>\n",
       "      <th>1</th>\n",
       "      <td>203</td>\n",
       "      <td>100</td>\n",
       "      <td>10</td>\n",
       "    </tr>\n",
       "    <tr>\n",
       "      <th>2</th>\n",
       "      <td>222</td>\n",
       "      <td>120</td>\n",
       "      <td>10</td>\n",
       "    </tr>\n",
       "    <tr>\n",
       "      <th>3</th>\n",
       "      <td>234</td>\n",
       "      <td>140</td>\n",
       "      <td>10</td>\n",
       "    </tr>\n",
       "    <tr>\n",
       "      <th>4</th>\n",
       "      <td>261</td>\n",
       "      <td>160</td>\n",
       "      <td>10</td>\n",
       "    </tr>\n",
       "  </tbody>\n",
       "</table>\n",
       "</div>"
      ],
      "text/plain": [
       "   Produção  Temperatura  Concentração\n",
       "0       189           80            10\n",
       "1       203          100            10\n",
       "2       222          120            10\n",
       "3       234          140            10\n",
       "4       261          160            10"
      ]
     },
     "execution_count": 2,
     "metadata": {},
     "output_type": "execute_result"
    }
   ],
   "source": [
    "df = pd.read_csv('prod_table.csv', sep = ',')\n",
    "df_treated = pd.DataFrame(df.iloc[:,0:3])\n",
    "to_app = df.iloc[:,3:6]\n",
    "to_app.columns = ['Produção', 'Temperatura', 'Concentração']\n",
    "df_treated = pd.concat([df_treated, to_app], ignore_index = True)\n",
    "df_treated.head()"
   ]
  },
  {
   "cell_type": "markdown",
   "id": "c2e2a9ef",
   "metadata": {},
   "source": [
    "a) Ajustando um modelo de regressão para a produção (Y) em função da temperatura ($x_1$) e concentração ($x_2$)."
   ]
  },
  {
   "cell_type": "code",
   "execution_count": 3,
   "id": "0d7cf5c9",
   "metadata": {
    "scrolled": true
   },
   "outputs": [
    {
     "data": {
      "text/html": [
       "<table class=\"simpletable\">\n",
       "<caption>OLS Regression Results</caption>\n",
       "<tr>\n",
       "  <th>Dep. Variable:</th>        <td>Produção</td>     <th>  R-squared:         </th> <td>   0.962</td>\n",
       "</tr>\n",
       "<tr>\n",
       "  <th>Model:</th>                   <td>OLS</td>       <th>  Adj. R-squared:    </th> <td>   0.958</td>\n",
       "</tr>\n",
       "<tr>\n",
       "  <th>Method:</th>             <td>Least Squares</td>  <th>  F-statistic:       </th> <td>   215.9</td>\n",
       "</tr>\n",
       "<tr>\n",
       "  <th>Date:</th>             <td>Tue, 08 Nov 2022</td> <th>  Prob (F-statistic):</th> <td>8.23e-13</td>\n",
       "</tr>\n",
       "<tr>\n",
       "  <th>Time:</th>                 <td>09:06:12</td>     <th>  Log-Likelihood:    </th> <td> -62.739</td>\n",
       "</tr>\n",
       "<tr>\n",
       "  <th>No. Observations:</th>      <td>    20</td>      <th>  AIC:               </th> <td>   131.5</td>\n",
       "</tr>\n",
       "<tr>\n",
       "  <th>Df Residuals:</th>          <td>    17</td>      <th>  BIC:               </th> <td>   134.5</td>\n",
       "</tr>\n",
       "<tr>\n",
       "  <th>Df Model:</th>              <td>     2</td>      <th>                     </th>     <td> </td>   \n",
       "</tr>\n",
       "<tr>\n",
       "  <th>Covariance Type:</th>      <td>nonrobust</td>    <th>                     </th>     <td> </td>   \n",
       "</tr>\n",
       "</table>\n",
       "<table class=\"simpletable\">\n",
       "<tr>\n",
       "        <td></td>          <th>coef</th>     <th>std err</th>      <th>t</th>      <th>P>|t|</th>  <th>[0.025</th>    <th>0.975]</th>  \n",
       "</tr>\n",
       "<tr>\n",
       "  <th>Intercept</th>    <td>   93.1800</td> <td>    7.254</td> <td>   12.845</td> <td> 0.000</td> <td>   77.875</td> <td>  108.485</td>\n",
       "</tr>\n",
       "<tr>\n",
       "  <th>Temperatura</th>  <td>    0.8700</td> <td>    0.048</td> <td>   18.204</td> <td> 0.000</td> <td>    0.769</td> <td>    0.971</td>\n",
       "</tr>\n",
       "<tr>\n",
       "  <th>Concentração</th> <td>    2.4240</td> <td>    0.242</td> <td>   10.025</td> <td> 0.000</td> <td>    1.914</td> <td>    2.934</td>\n",
       "</tr>\n",
       "</table>\n",
       "<table class=\"simpletable\">\n",
       "<tr>\n",
       "  <th>Omnibus:</th>       <td> 0.340</td> <th>  Durbin-Watson:     </th> <td>   1.798</td>\n",
       "</tr>\n",
       "<tr>\n",
       "  <th>Prob(Omnibus):</th> <td> 0.844</td> <th>  Jarque-Bera (JB):  </th> <td>   0.497</td>\n",
       "</tr>\n",
       "<tr>\n",
       "  <th>Skew:</th>          <td>-0.170</td> <th>  Prob(JB):          </th> <td>   0.780</td>\n",
       "</tr>\n",
       "<tr>\n",
       "  <th>Kurtosis:</th>      <td> 2.307</td> <th>  Cond. No.          </th> <td>    668.</td>\n",
       "</tr>\n",
       "</table><br/><br/>Notes:<br/>[1] Standard Errors assume that the covariance matrix of the errors is correctly specified."
      ],
      "text/plain": [
       "<class 'statsmodels.iolib.summary.Summary'>\n",
       "\"\"\"\n",
       "                            OLS Regression Results                            \n",
       "==============================================================================\n",
       "Dep. Variable:               Produção   R-squared:                       0.962\n",
       "Model:                            OLS   Adj. R-squared:                  0.958\n",
       "Method:                 Least Squares   F-statistic:                     215.9\n",
       "Date:                Tue, 08 Nov 2022   Prob (F-statistic):           8.23e-13\n",
       "Time:                        09:06:12   Log-Likelihood:                -62.739\n",
       "No. Observations:                  20   AIC:                             131.5\n",
       "Df Residuals:                      17   BIC:                             134.5\n",
       "Df Model:                           2                                         \n",
       "Covariance Type:            nonrobust                                         \n",
       "================================================================================\n",
       "                   coef    std err          t      P>|t|      [0.025      0.975]\n",
       "--------------------------------------------------------------------------------\n",
       "Intercept       93.1800      7.254     12.845      0.000      77.875     108.485\n",
       "Temperatura      0.8700      0.048     18.204      0.000       0.769       0.971\n",
       "Concentração     2.4240      0.242     10.025      0.000       1.914       2.934\n",
       "==============================================================================\n",
       "Omnibus:                        0.340   Durbin-Watson:                   1.798\n",
       "Prob(Omnibus):                  0.844   Jarque-Bera (JB):                0.497\n",
       "Skew:                          -0.170   Prob(JB):                        0.780\n",
       "Kurtosis:                       2.307   Cond. No.                         668.\n",
       "==============================================================================\n",
       "\n",
       "Notes:\n",
       "[1] Standard Errors assume that the covariance matrix of the errors is correctly specified.\n",
       "\"\"\""
      ]
     },
     "execution_count": 3,
     "metadata": {},
     "output_type": "execute_result"
    }
   ],
   "source": [
    "results = smf.ols('Produção ~ Temperatura + Concentração', data=df_treated).fit()\n",
    "results.summary()"
   ]
  },
  {
   "cell_type": "markdown",
   "id": "5123dd86",
   "metadata": {},
   "source": [
    "O modelo obtido é definido como:\n",
    "    \n",
    "$$\n",
    "Y_{i} = 93.1800 + 0.87x_1 + 2.424x_2\n",
    "$$"
   ]
  },
  {
   "cell_type": "markdown",
   "id": "5dd45c46",
   "metadata": {},
   "source": [
    "Como os coeficientes são positivos, eles demonstram que a temperatura e a concentração são positivamente correlacionados com a produção. Além disso, o valor desses coeficientes nos dão a taxa com que a produção aumenta de acordo com a covariável. Por exemplo: ao aumentar em 1 grau a temperatura, a produção aumenta em 0.87."
   ]
  },
  {
   "cell_type": "markdown",
   "id": "ac222d9d",
   "metadata": {},
   "source": [
    "b) Verificando suposições do modelo."
   ]
  },
  {
   "cell_type": "code",
   "execution_count": 4,
   "id": "2d8bf63e",
   "metadata": {
    "scrolled": true
   },
   "outputs": [
    {
     "data": {
      "image/png": "[encoded data removed]",
      "text/plain": [
       "<Figure size 432x288 with 2 Axes>"
      ]
     },
     "metadata": {
      "needs_background": "light"
     },
     "output_type": "display_data"
    },
    {
     "data": {
      "image/png": "[encoded data removed]",
      "text/plain": [
       "<Figure size 432x288 with 1 Axes>"
      ]
     },
     "metadata": {
      "needs_background": "light"
     },
     "output_type": "display_data"
    }
   ],
   "source": [
    "def student_residuals(results, df_treated):\n",
    "    x = df_treated[['Temperatura', 'Concentração']].to_numpy()\n",
    "    errors = df_treated['Produção'].to_numpy() - results.predict()\n",
    "    hat = np.dot(np.dot(x,np.linalg.inv(np.dot(x.T, x))),x.T)\n",
    "    hat_diag = hat.diagonal()\n",
    "    student = []\n",
    "    for i in range(0,len(hat_diag)):\n",
    "        e = errors[i]/np.sqrt(errors.var(ddof = 1)*(1-hat_diag[i]))\n",
    "        student.append(e)\n",
    "    \n",
    "    \n",
    "    fig, axs = plt.subplots(ncols=2, sharey = True)\n",
    "    fig.text(0.04, 0.5, 'Resíduos Studentizados', va='center', rotation='vertical')\n",
    "    a = sns.scatterplot(x = df_treated['Concentração'], y = student, ax = axs[0])\n",
    "    b = sns.scatterplot(x = df_treated['Temperatura'], y = student, ax = axs[1], color = 'orange')\n",
    "    a.axhline(0, color = 'black')\n",
    "    b.axhline(0, color = 'black')\n",
    "    \n",
    "    qqplot = sm.qqplot(np.array(student), fit=True, line=\"45\")\n",
    "\n",
    "\n",
    "    \n",
    "\n",
    "student_residuals(results, df_treated)\n"
   ]
  },
  {
   "cell_type": "markdown",
   "id": "290baad9",
   "metadata": {},
   "source": [
    "Como os resíduos parecem estar uniformemente distribuídos ao redor do 0 (linha horizontal) para ambas as covariáveis e a sua variação parece constante, o modelo adquirido parece satisfazer as suposições de que os erros possuem variância constante e média zero."
   ]
  },
  {
   "cell_type": "markdown",
   "id": "12508f0f",
   "metadata": {},
   "source": [
    "Realizando o teste Shapiro-Wil para normalidade e Breusch-Pagan para homegeneidade de variância, nossas hipóteses são confirmadas."
   ]
  },
  {
   "cell_type": "code",
   "execution_count": 5,
   "id": "0a6fea8a",
   "metadata": {},
   "outputs": [
    {
     "name": "stdout",
     "output_type": "stream",
     "text": [
      "Shapiro-Wilk p-valor: 0.9198963046073914\n",
      "Breusch-Pagan p-valor : 0.6991257173465322\n"
     ]
    }
   ],
   "source": [
    "print(f'Shapiro-Wilk p-valor: {sc.stats.shapiro(results.resid)[1]}')\n",
    "print(f'Breusch-Pagan p-valor : {sms.het_breuschpagan(results.resid, results.model.exog)[1]}')\n"
   ]
  },
  {
   "cell_type": "markdown",
   "id": "62bc5661",
   "metadata": {},
   "source": [
    "Ao analisar o QQPlot não notamos graves desvios em relação a reta afim, o que demonstra que os quantis dos resíduos se aproximam dos quantis da distribuição normal."
   ]
  },
  {
   "cell_type": "markdown",
   "id": "13582d13",
   "metadata": {},
   "source": [
    "c) Relações"
   ]
  },
  {
   "cell_type": "markdown",
   "id": "799e5aa7",
   "metadata": {},
   "source": [
    "Verificando a seguinte hipótese:\n",
    "    \n",
    "$$\n",
    "H_0: \\beta_1 = \\beta_2 = 0 \\quad \\textrm{vs} \\quad H_1: \\beta_j \\neq 0 \\quad \\textrm{para pelo menos um j, j= 1,2}\n",
    "$$"
   ]
  },
  {
   "cell_type": "code",
   "execution_count": 6,
   "id": "64dae7a7",
   "metadata": {},
   "outputs": [
    {
     "name": "stdout",
     "output_type": "stream",
     "text": [
      "O p-valor é 8.234401303556645e-13\n"
     ]
    }
   ],
   "source": [
    "print(f'O p-valor é {results.f_pvalue}')"
   ]
  },
  {
   "cell_type": "markdown",
   "id": "7b56566f",
   "metadata": {},
   "source": [
    "Logo, ao nível de significância 5% e de acordo com os dados utilizados, rejeitamos a hipótese de que ambos os coeficientes da regressão são nulos e, então, ao menos um deles explica a variabilidade da produção."
   ]
  },
  {
   "cell_type": "markdown",
   "id": "829881a4",
   "metadata": {},
   "source": [
    "d) Porcentagem da variabilidade explicada pelas covariáveis"
   ]
  },
  {
   "cell_type": "code",
   "execution_count": 7,
   "id": "40ebf38d",
   "metadata": {},
   "outputs": [
    {
     "name": "stdout",
     "output_type": "stream",
     "text": [
      "O coeficiente de determinação R-Squared foi de 0.96\n"
     ]
    }
   ],
   "source": [
    "print(f'O coeficiente de determinação R-Squared foi de {round(results.rsquared,2)}')"
   ]
  },
  {
   "cell_type": "markdown",
   "id": "96113c8b",
   "metadata": {},
   "source": [
    "e) Contribuição individual das covariáveis"
   ]
  },
  {
   "cell_type": "markdown",
   "id": "a994275a",
   "metadata": {},
   "source": [
    "Verificando a seguinte hipótese:\n",
    "    \n",
    "$$\n",
    "H_0: \\beta_1  = 0 \\quad \\textrm{vs} \\quad H_1: \\beta_1 \\neq 0 \n",
    "$$"
   ]
  },
  {
   "cell_type": "code",
   "execution_count": 8,
   "id": "0c71d0da",
   "metadata": {},
   "outputs": [
    {
     "name": "stdout",
     "output_type": "stream",
     "text": [
      "O p-valor obtido foi de : 1.3842607977678764e-12\n"
     ]
    }
   ],
   "source": [
    "print(f'O p-valor obtido foi de : {results.f_test(\"Temperatura = 0\").pvalue}')"
   ]
  },
  {
   "cell_type": "markdown",
   "id": "80377375",
   "metadata": {},
   "source": [
    "$$\n",
    "H_0: \\beta_2  = 0 \\quad \\textrm{vs} \\quad H_1: \\beta_2 \\neq 0 \n",
    "$$"
   ]
  },
  {
   "cell_type": "code",
   "execution_count": 9,
   "id": "6c52f165",
   "metadata": {},
   "outputs": [
    {
     "name": "stdout",
     "output_type": "stream",
     "text": [
      "O p-valor obtido foi de : 1.493479291510911e-08\n"
     ]
    }
   ],
   "source": [
    "print(f'O p-valor obtido foi de : {results.f_test(\"Concentração = 0\").pvalue}')"
   ]
  },
  {
   "cell_type": "markdown",
   "id": "87b3f0c8",
   "metadata": {},
   "source": [
    "Logo, ao nível de significância de 5%, rejeitamos ambas as hipóteses nulas, ou seja, ambos os coeficientes contribuem significativamente para o modelo de regressão."
   ]
  },
  {
   "cell_type": "markdown",
   "id": "000f4e26",
   "metadata": {},
   "source": [
    "f) Qual variável é mais importante?"
   ]
  },
  {
   "cell_type": "code",
   "execution_count": 10,
   "id": "fa3c1182",
   "metadata": {},
   "outputs": [
    {
     "name": "stdout",
     "output_type": "stream",
     "text": [
      "R2B1: 0.7382589612289695 \n",
      " R2B2: 0.22386978785662096\n"
     ]
    }
   ],
   "source": [
    "res_wb1 = smf.ols('Produção ~ Concentração', data=df_treated).fit()\n",
    "res_wb2 = smf.ols('Produção ~ Temperatura', data=df_treated).fit()\n",
    "\n",
    "sqreg = np.sum((results.predict() - df_treated['Produção'].mean())**2)\n",
    "total_sqt = sqreg + results.ssr\n",
    "sqregb1 = np.sum((res_wb1.predict() - df_treated['Produção'].mean())**2)\n",
    "sqregb2 = np.sum((res_wb2.predict() - df_treated['Produção'].mean())**2)\n",
    "\n",
    "\n",
    "sqreg_b1 = sqreg - sqregb1\n",
    "sqreg_b2 = sqreg - sqregb2\n",
    "\n",
    "\n",
    "print(f'R2B1: {sqreg_b1/total_sqt} \\n R2B2: {sqreg_b2/total_sqt}')"
   ]
  },
  {
   "cell_type": "markdown",
   "id": "785f9be6",
   "metadata": {},
   "source": [
    "g) Intervalo de confiança"
   ]
  },
  {
   "cell_type": "code",
   "execution_count": 11,
   "id": "5232fbdd",
   "metadata": {},
   "outputs": [
    {
     "name": "stdout",
     "output_type": "stream",
     "text": [
      "A resposta média para a temperatura de 125° e 14% foi de 235.87 \n",
      " IC(95%): [234.82,236.91]\n"
     ]
    }
   ],
   "source": [
    "\n",
    "\n",
    "def ic(xo, results, alpha = 0.5):\n",
    "    mean = results.predict({'Temperatura': xo[0], 'Concentração' : xo[1]})[0]\n",
    "    p = results.df_model + 1\n",
    "    n = results.df_model + results.df_resid +1\n",
    "    x = df_treated[['Temperatura', 'Concentração']].to_numpy()\n",
    "    xo = np.array([125,14])\n",
    "    aux = np.dot(np.dot(xo.T,np.linalg.inv(np.dot(x.T, x))), xo)\n",
    "    sigma_xapeu = results.ssr/(n-p)\n",
    "    sup = mean - t.ppf(alpha/2, n-p)*np.sqrt(sigma_xapeu*aux)\n",
    "    inf = mean + t.ppf(alpha/2, n-p)*np.sqrt(sigma_xapeu*aux)\n",
    "    \n",
    "    inf = round(inf,2)\n",
    "    sup = round(sup,2)\n",
    "    return mean, inf, sup\n",
    "xo = np.array([125,14])\n",
    "mean, inf, sup = ic(xo, results)\n",
    "\n",
    "print(f'A resposta média para a temperatura de 125° e 14% foi de {round(mean,2)} \\n IC(95%): [{inf},{sup}]')"
   ]
  },
  {
   "cell_type": "markdown",
   "id": "607241ab",
   "metadata": {},
   "source": [
    "Ao nível de confiança de 5% não podemos afirmar que a quantidade média de produtos é no mínimo 240, pois esse valor não está nos limites do intervalo de confiança."
   ]
  },
  {
   "cell_type": "markdown",
   "id": "c32f19c5",
   "metadata": {},
   "source": [
    "h) Intervalo de confiança de 99%"
   ]
  },
  {
   "cell_type": "code",
   "execution_count": 12,
   "id": "e53b3a5a",
   "metadata": {},
   "outputs": [
    {
     "name": "stdout",
     "output_type": "stream",
     "text": [
      "A resposta média para a temperatura de 125° e 14% foi de 235.87 \n",
      " IC(99%): [231.48,240.25]\n"
     ]
    }
   ],
   "source": [
    "mean, inf, sup = ic(xo, results, alpha = 0.01)\n",
    "print(f'A resposta média para a temperatura de 125° e 14% foi de {round(mean,2)} \\n IC(99%): [{inf},{sup}]')"
   ]
  },
  {
   "cell_type": "markdown",
   "id": "cebe5850",
   "metadata": {},
   "source": [
    "# Questão 2"
   ]
  },
  {
   "cell_type": "code",
   "execution_count": 17,
   "id": "5596f15c",
   "metadata": {},
   "outputs": [
    {
     "data": {
      "text/plain": [
       "Index(['Experimento', 'Y1', 'Y2', 'Y3', 'X1', 'X2', 'X3'], dtype='object')"
      ]
     },
     "execution_count": 17,
     "metadata": {},
     "output_type": "execute_result"
    }
   ],
   "source": [
    "df = pd.read_csv('exp_table.csv', sep = ',')\n",
    "df.columns"
   ]
  },
  {
   "cell_type": "code",
   "execution_count": 26,
   "id": "818ba742",
   "metadata": {},
   "outputs": [
    {
     "data": {
      "text/plain": [
       "(array([[-1.54596082, -1.42455873, -2.23736565],\n",
       "        [ 0.40455059,  0.29298999,  1.03380047],\n",
       "        [ 0.91392477,  0.89947254,  1.15348549]]),\n",
       " array([ 332.11098334,  -26.03526431, -164.0789411 ]))"
      ]
     },
     "execution_count": 26,
     "metadata": {},
     "output_type": "execute_result"
    }
   ],
   "source": [
    "from sklearn import linear_model\n",
    "y = df[['Y1','Y2','Y3']]\n",
    "x = df[['X1','X2','X3']]\n",
    "clf = linear_model.LinearRegression().fit(x,y)\n",
    "clf.coef_, clf.intercept_\n"
   ]
  },
  {
   "cell_type": "code",
   "execution_count": 44,
   "id": "777dc57b",
   "metadata": {},
   "outputs": [
    {
     "name": "stdout",
     "output_type": "stream",
     "text": [
      "Y1 \n",
      "Intercept    332.110983\n",
      "X1            -1.545961\n",
      "X2            -1.424559\n",
      "X3            -2.237366\n",
      "dtype: float64 \n",
      "Y2 \n",
      "Intercept   -26.035264\n",
      "X1            0.404551\n",
      "X2            0.292990\n",
      "X3            1.033800\n",
      "dtype: float64 \n",
      "Y3 \n",
      "Intercept   -164.078941\n",
      "X1             0.913925\n",
      "X2             0.899473\n",
      "X3             1.153485\n",
      "dtype: float64\n"
     ]
    }
   ],
   "source": [
    "m1 = smf.ols('Y1 ~ X1 + X2 + X3', data=df).fit()\n",
    "m2 = smf.ols('Y2 ~ X1 + X2 + X3', data=df).fit()\n",
    "m3 = smf.ols('Y3 ~ X1 + X2 + X3', data=df).fit()\n",
    "print(f'Y1 \\n{m1.params} \\nY2 \\n{m2.params} \\nY3 \\n{m3.params}')"
   ]
  },
  {
   "cell_type": "markdown",
   "id": "e915c197",
   "metadata": {},
   "source": [
    "Assim, os modelos gerados são dados por:\n",
    "\n",
    "$$\n",
    "Y_1 = 332.110 -1.545 X_1 - 1.424X_2 - 2.237 X_3 \\\\\n",
    "Y_2 = -26.035 + 0.404 X_1 + 0.292 X_2 + 1.033 X_3 \\\\\n",
    "Y_3 = -164.078 + 0.913 X_1 + 0.899 X_2 + 1.153 X_3 \\\\\n",
    "$$\n"
   ]
  },
  {
   "cell_type": "markdown",
   "id": "387ee17b",
   "metadata": {},
   "source": [
    "em que cada coeficiente representa o impacto da mudança de uma unidade da covariável a qual ele está associado, a variável resposta."
   ]
  },
  {
   "cell_type": "markdown",
   "id": "ac3264b4",
   "metadata": {},
   "source": [
    "b) Suposições do modelo"
   ]
  },
  {
   "cell_type": "code",
   "execution_count": 102,
   "id": "fb828a38",
   "metadata": {},
   "outputs": [
    {
     "data": {
      "image/png": "[encoded data removed]",
      "text/plain": [
       "<Figure size 432x288 with 3 Axes>"
      ]
     },
     "metadata": {
      "needs_background": "light"
     },
     "output_type": "display_data"
    },
    {
     "data": {
      "image/png": "[encoded data removed]",
      "text/plain": [
       "<Figure size 432x288 with 1 Axes>"
      ]
     },
     "metadata": {
      "needs_background": "light"
     },
     "output_type": "display_data"
    },
    {
     "data": {
      "image/png": "[encoded data removed]",
      "text/plain": [
       "<Figure size 432x288 with 3 Axes>"
      ]
     },
     "metadata": {
      "needs_background": "light"
     },
     "output_type": "display_data"
    },
    {
     "data": {
      "image/png": "[encoded data removed]",
      "text/plain": [
       "<Figure size 432x288 with 1 Axes>"
      ]
     },
     "metadata": {
      "needs_background": "light"
     },
     "output_type": "display_data"
    },
    {
     "data": {
      "image/png": "[encoded data removed]",
      "text/plain": [
       "<Figure size 432x288 with 3 Axes>"
      ]
     },
     "metadata": {
      "needs_background": "light"
     },
     "output_type": "display_data"
    },
    {
     "data": {
      "image/png": "[encoded data removed]",
      "text/plain": [
       "<Figure size 432x288 with 1 Axes>"
      ]
     },
     "metadata": {
      "needs_background": "light"
     },
     "output_type": "display_data"
    }
   ],
   "source": [
    "def student_residuals(results, df_treated, dependent):\n",
    "    x = df_treated[['X1', 'X2','X3']].to_numpy()\n",
    "\n",
    "    \n",
    "    errors = df_treated[dependent].to_numpy() - results.predict()\n",
    "    hat = np.dot(np.dot(x,np.linalg.inv(np.dot(x.T, x))),x.T)\n",
    "    hat_diag = hat.diagonal()\n",
    "    student = []\n",
    "    s1 = round(sc.stats.shapiro(results.resid)[1],3)\n",
    "    bp = round(sms.het_breuschpagan(results.resid, results.model.exog)[1],3)\n",
    "    for i in range(0,len(hat_diag)):\n",
    "        e = errors[i]/np.sqrt(errors.var(ddof = 1)*(1-hat_diag[i]))\n",
    "        student.append(e)\n",
    "    \n",
    "    fig, axs = plt.subplots(ncols=3, sharey = True)\n",
    "    fig.text(0.45, 1, f'Modelo {dependent}', va='center', rotation='horizontal')\n",
    "    fig.text(0.04, 0.5, 'Resíduos Studentizados', va='center', rotation='vertical')\n",
    "    a = sns.scatterplot(x = df_treated['X1'], y = student, ax = axs[0])\n",
    "    b = sns.scatterplot(x = df_treated['X2'], y = student, ax = axs[1], color = 'orange')\n",
    "    c = sns.scatterplot(x = df_treated['X3'], y = student, ax = axs[2], color = 'red')\n",
    "    fig.text(0.35, -0.003, f'Breusch-Pagan p-valor: {bp}', va='center', rotation='horizontal')\n",
    "    fig.text(0.35, -0.1, f'Shapiro Wilk p-valor: {s1}', va='center', rotation='horizontal')\n",
    "\n",
    "\n",
    "    a.axhline(0, color = 'black')\n",
    "    b.axhline(0, color = 'black')\n",
    "    c.axhline(0, color = 'black')\n",
    "    qqplot = sm.qqplot(np.array(student), fit=True, line=\"45\")\n",
    "\n",
    "    \n",
    "    \n",
    "    \n",
    "\n",
    "\n",
    "    \n",
    "dep = {'Y1': m1, 'Y2': m2, 'Y3': m3}\n",
    "for i in dep.keys():\n",
    "    student_residuals(dep[i], df, i)"
   ]
  }
 ],
 "metadata": {
  "kernelspec": {
   "display_name": "Python 3 (ipykernel)",
   "language": "python",
   "name": "python3"
  },
  "language_info": {
   "codemirror_mode": {
    "name": "ipython",
    "version": 3
   },
   "file_extension": ".py",
   "mimetype": "text/x-python",
   "name": "python",
   "nbconvert_exporter": "python",
   "pygments_lexer": "ipython3",
   "version": "3.9.12"
  }
 },
 "nbformat": 4,
 "nbformat_minor": 5
}
