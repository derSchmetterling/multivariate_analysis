{
 "cells": [
  {
   "cell_type": "code",
   "execution_count": 31,
   "id": "692ba19f",
   "metadata": {},
   "outputs": [],
   "source": [
    "import pandas as pd\n",
    "import numpy as np \n",
    "import statsmodels.api as sm\n",
    "import matplotlib.pyplot as plt\n",
    "import statsmodels.formula.api as smf\n",
    "import seaborn as sns"
   ]
  },
  {
   "cell_type": "markdown",
   "id": "0ce00098",
   "metadata": {},
   "source": [
    "# Questão 1"
   ]
  },
  {
   "cell_type": "markdown",
   "id": "b11fc60d",
   "metadata": {},
   "source": [
    "Lendo a tabela:"
   ]
  },
  {
   "cell_type": "code",
   "execution_count": 12,
   "id": "8299ec0b",
   "metadata": {},
   "outputs": [
    {
     "data": {
      "text/html": [
       "<div>\n",
       "<style scoped>\n",
       "    .dataframe tbody tr th:only-of-type {\n",
       "        vertical-align: middle;\n",
       "    }\n",
       "\n",
       "    .dataframe tbody tr th {\n",
       "        vertical-align: top;\n",
       "    }\n",
       "\n",
       "    .dataframe thead th {\n",
       "        text-align: right;\n",
       "    }\n",
       "</style>\n",
       "<table border=\"1\" class=\"dataframe\">\n",
       "  <thead>\n",
       "    <tr style=\"text-align: right;\">\n",
       "      <th></th>\n",
       "      <th>Produção</th>\n",
       "      <th>Temperatura</th>\n",
       "      <th>Concentração</th>\n",
       "    </tr>\n",
       "  </thead>\n",
       "  <tbody>\n",
       "    <tr>\n",
       "      <th>0</th>\n",
       "      <td>189</td>\n",
       "      <td>80</td>\n",
       "      <td>10</td>\n",
       "    </tr>\n",
       "    <tr>\n",
       "      <th>1</th>\n",
       "      <td>203</td>\n",
       "      <td>100</td>\n",
       "      <td>10</td>\n",
       "    </tr>\n",
       "    <tr>\n",
       "      <th>2</th>\n",
       "      <td>222</td>\n",
       "      <td>120</td>\n",
       "      <td>10</td>\n",
       "    </tr>\n",
       "    <tr>\n",
       "      <th>3</th>\n",
       "      <td>234</td>\n",
       "      <td>140</td>\n",
       "      <td>10</td>\n",
       "    </tr>\n",
       "    <tr>\n",
       "      <th>4</th>\n",
       "      <td>261</td>\n",
       "      <td>160</td>\n",
       "      <td>10</td>\n",
       "    </tr>\n",
       "  </tbody>\n",
       "</table>\n",
       "</div>"
      ],
      "text/plain": [
       "   Produção  Temperatura  Concentração\n",
       "0       189           80            10\n",
       "1       203          100            10\n",
       "2       222          120            10\n",
       "3       234          140            10\n",
       "4       261          160            10"
      ]
     },
     "execution_count": 12,
     "metadata": {},
     "output_type": "execute_result"
    }
   ],
   "source": [
    "df = pd.read_csv('prod_table.csv', sep = ',')\n",
    "df_treated = pd.DataFrame(df.iloc[:,0:3])\n",
    "to_app = df.iloc[:,3:6]\n",
    "to_app.columns = ['Produção', 'Temperatura', 'Concentração']\n",
    "df_treated = pd.concat([df_treated, to_app], ignore_index = True)\n",
    "df_treated.head()"
   ]
  },
  {
   "cell_type": "markdown",
   "id": "c2e2a9ef",
   "metadata": {},
   "source": [
    "a) Ajustando um modelo de regressão para a produção (Y) em função da temperatura ($x_1$) e concentração ($x_2$)."
   ]
  },
  {
   "cell_type": "code",
   "execution_count": 15,
   "id": "0d7cf5c9",
   "metadata": {
    "scrolled": true
   },
   "outputs": [
    {
     "data": {
      "text/html": [
       "<table class=\"simpletable\">\n",
       "<caption>OLS Regression Results</caption>\n",
       "<tr>\n",
       "  <th>Dep. Variable:</th>        <td>Produção</td>     <th>  R-squared:         </th> <td>   0.962</td>\n",
       "</tr>\n",
       "<tr>\n",
       "  <th>Model:</th>                   <td>OLS</td>       <th>  Adj. R-squared:    </th> <td>   0.958</td>\n",
       "</tr>\n",
       "<tr>\n",
       "  <th>Method:</th>             <td>Least Squares</td>  <th>  F-statistic:       </th> <td>   215.9</td>\n",
       "</tr>\n",
       "<tr>\n",
       "  <th>Date:</th>             <td>Sat, 05 Nov 2022</td> <th>  Prob (F-statistic):</th> <td>8.23e-13</td>\n",
       "</tr>\n",
       "<tr>\n",
       "  <th>Time:</th>                 <td>19:41:49</td>     <th>  Log-Likelihood:    </th> <td> -62.739</td>\n",
       "</tr>\n",
       "<tr>\n",
       "  <th>No. Observations:</th>      <td>    20</td>      <th>  AIC:               </th> <td>   131.5</td>\n",
       "</tr>\n",
       "<tr>\n",
       "  <th>Df Residuals:</th>          <td>    17</td>      <th>  BIC:               </th> <td>   134.5</td>\n",
       "</tr>\n",
       "<tr>\n",
       "  <th>Df Model:</th>              <td>     2</td>      <th>                     </th>     <td> </td>   \n",
       "</tr>\n",
       "<tr>\n",
       "  <th>Covariance Type:</th>      <td>nonrobust</td>    <th>                     </th>     <td> </td>   \n",
       "</tr>\n",
       "</table>\n",
       "<table class=\"simpletable\">\n",
       "<tr>\n",
       "        <td></td>          <th>coef</th>     <th>std err</th>      <th>t</th>      <th>P>|t|</th>  <th>[0.025</th>    <th>0.975]</th>  \n",
       "</tr>\n",
       "<tr>\n",
       "  <th>Intercept</th>    <td>   93.1800</td> <td>    7.254</td> <td>   12.845</td> <td> 0.000</td> <td>   77.875</td> <td>  108.485</td>\n",
       "</tr>\n",
       "<tr>\n",
       "  <th>Temperatura</th>  <td>    0.8700</td> <td>    0.048</td> <td>   18.204</td> <td> 0.000</td> <td>    0.769</td> <td>    0.971</td>\n",
       "</tr>\n",
       "<tr>\n",
       "  <th>Concentração</th> <td>    2.4240</td> <td>    0.242</td> <td>   10.025</td> <td> 0.000</td> <td>    1.914</td> <td>    2.934</td>\n",
       "</tr>\n",
       "</table>\n",
       "<table class=\"simpletable\">\n",
       "<tr>\n",
       "  <th>Omnibus:</th>       <td> 0.340</td> <th>  Durbin-Watson:     </th> <td>   1.798</td>\n",
       "</tr>\n",
       "<tr>\n",
       "  <th>Prob(Omnibus):</th> <td> 0.844</td> <th>  Jarque-Bera (JB):  </th> <td>   0.497</td>\n",
       "</tr>\n",
       "<tr>\n",
       "  <th>Skew:</th>          <td>-0.170</td> <th>  Prob(JB):          </th> <td>   0.780</td>\n",
       "</tr>\n",
       "<tr>\n",
       "  <th>Kurtosis:</th>      <td> 2.307</td> <th>  Cond. No.          </th> <td>    668.</td>\n",
       "</tr>\n",
       "</table><br/><br/>Notes:<br/>[1] Standard Errors assume that the covariance matrix of the errors is correctly specified."
      ],
      "text/plain": [
       "<class 'statsmodels.iolib.summary.Summary'>\n",
       "\"\"\"\n",
       "                            OLS Regression Results                            \n",
       "==============================================================================\n",
       "Dep. Variable:               Produção   R-squared:                       0.962\n",
       "Model:                            OLS   Adj. R-squared:                  0.958\n",
       "Method:                 Least Squares   F-statistic:                     215.9\n",
       "Date:                Sat, 05 Nov 2022   Prob (F-statistic):           8.23e-13\n",
       "Time:                        19:41:49   Log-Likelihood:                -62.739\n",
       "No. Observations:                  20   AIC:                             131.5\n",
       "Df Residuals:                      17   BIC:                             134.5\n",
       "Df Model:                           2                                         \n",
       "Covariance Type:            nonrobust                                         \n",
       "================================================================================\n",
       "                   coef    std err          t      P>|t|      [0.025      0.975]\n",
       "--------------------------------------------------------------------------------\n",
       "Intercept       93.1800      7.254     12.845      0.000      77.875     108.485\n",
       "Temperatura      0.8700      0.048     18.204      0.000       0.769       0.971\n",
       "Concentração     2.4240      0.242     10.025      0.000       1.914       2.934\n",
       "==============================================================================\n",
       "Omnibus:                        0.340   Durbin-Watson:                   1.798\n",
       "Prob(Omnibus):                  0.844   Jarque-Bera (JB):                0.497\n",
       "Skew:                          -0.170   Prob(JB):                        0.780\n",
       "Kurtosis:                       2.307   Cond. No.                         668.\n",
       "==============================================================================\n",
       "\n",
       "Notes:\n",
       "[1] Standard Errors assume that the covariance matrix of the errors is correctly specified.\n",
       "\"\"\""
      ]
     },
     "execution_count": 15,
     "metadata": {},
     "output_type": "execute_result"
    }
   ],
   "source": [
    "results = smf.ols('Produção ~ Temperatura + Concentração', data=df_treated).fit()\n",
    "results.summary()"
   ]
  },
  {
   "cell_type": "markdown",
   "id": "5123dd86",
   "metadata": {},
   "source": [
    "O modelo obtido é definido como:\n",
    "    \n",
    "$$\n",
    "Y_{i} = 93.1800 + 0.87x_1 + 2.424x_2\n",
    "$$"
   ]
  },
  {
   "cell_type": "markdown",
   "id": "5dd45c46",
   "metadata": {},
   "source": [
    "Como os coeficientes são positivos, eles demonstram que a temperatura e a concentração são positivamente correlacionados com a produção. Além disso, o valor desses coeficientes nos dão a taxa com que a produção aumenta de acordo com a covariável. Por exemplo: ao aumentar em 1 grau a temperatura, a produção aumenta em 0.87."
   ]
  },
  {
   "cell_type": "markdown",
   "id": "ac222d9d",
   "metadata": {},
   "source": [
    "b) Verificando suposições do modelo."
   ]
  },
  {
   "cell_type": "code",
   "execution_count": 70,
   "id": "2d8bf63e",
   "metadata": {
    "scrolled": false
   },
   "outputs": [
    {
     "data": {
      "image/png": "[encoded data removed]",
      "text/plain": [
       "<Figure size 432x288 with 2 Axes>"
      ]
     },
     "metadata": {
      "needs_background": "light"
     },
     "output_type": "display_data"
    }
   ],
   "source": [
    "def student_residuals(results, df_treated):\n",
    "    x = df_treated[['Temperatura', 'Concentração']].to_numpy()\n",
    "    errors = df_treated['Produção'].to_numpy() - results.predict()\n",
    "    hat = np.dot(np.dot(x,np.linalg.inv(np.dot(x.T, x))),x.T)\n",
    "    hat_diag = hat.diagonal()\n",
    "    student = []\n",
    "    for i in range(0,len(hat_diag)):\n",
    "        e = errors[i]/np.sqrt(errors.var(ddof = 1)*(1-hat_diag[i]))\n",
    "        student.append(e)\n",
    "    \n",
    "    \n",
    "    fig, axs = plt.subplots(ncols=2, sharey = True)\n",
    "    fig.text(0.04, 0.5, 'Resíduos Studentizados', va='center', rotation='vertical')\n",
    "    a = sns.scatterplot(x = df_treated['Concentração'], y = student, ax = axs[0])\n",
    "    b = sns.scatterplot(x = df_treated['Temperatura'], y = student, ax = axs[1], color = 'orange')\n",
    "    a.axhline(0, color = 'black')\n",
    "    b.axhline(0, color = 'black')\n",
    "\n",
    "\n",
    "    \n",
    "\n",
    "student_residuals(results, df_treated)\n"
   ]
  },
  {
   "cell_type": "markdown",
   "id": "290baad9",
   "metadata": {},
   "source": [
    "Como os resíduos parecem estar uniformemente distribuídos ao redor do 0 para ambas as covariáveis e a sua variação parece constante, o modelo adquirido parece satisfazer as suposições"
   ]
  }
 ],
 "metadata": {
  "kernelspec": {
   "display_name": "Python 3 (ipykernel)",
   "language": "python",
   "name": "python3"
  },
  "language_info": {
   "codemirror_mode": {
    "name": "ipython",
    "version": 3
   },
   "file_extension": ".py",
   "mimetype": "text/x-python",
   "name": "python",
   "nbconvert_exporter": "python",
   "pygments_lexer": "ipython3",
   "version": "3.9.12"
  }
 },
 "nbformat": 4,
 "nbformat_minor": 5
}
